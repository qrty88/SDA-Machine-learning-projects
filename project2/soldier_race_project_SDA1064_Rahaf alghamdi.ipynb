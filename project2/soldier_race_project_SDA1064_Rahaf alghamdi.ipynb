{
 "cells": [
  {
   "cell_type": "markdown",
   "metadata": {
    "id": "rfUdHCfe1b6v"
   },
   "source": [
    "___\n",
    "\n",
    "<p style=\"text-align: center;\"><img src=\"https://docs.google.com/uc?id=1lY0Uj5R04yMY3-ZppPWxqCr5pvBLYPnV\" class=\"img-fluid\" alt=\"CLRSWY\"></p>\n",
    "\n",
    "___"
   ]
  },
  {
   "cell_type": "markdown",
   "metadata": {
    "cell_style": "split",
    "heading_collapsed": true,
    "id": "CvFxPmf41b6y"
   },
   "source": [
    "# WELCOME!"
   ]
  },
  {
   "cell_type": "markdown",
   "metadata": {
    "cell_style": "split",
    "hidden": true,
    "id": "WZUMKNQY1b6y"
   },
   "source": [
    "In this project, you must apply EDA processes for the development of predictive models. Handling outliers, domain knowledge and feature engineering will be challenges.\n",
    "\n",
    "Also, this project aims to improve your ability to implement algorithms for Multi-Class Classification. Thus, you will have the opportunity to implement many algorithms commonly used for Multi-Class Classification problems.\n",
    "\n",
    "Before diving into the project, please take a look at the determines and tasks."
   ]
  },
  {
   "cell_type": "markdown",
   "metadata": {
    "cell_style": "split",
    "heading_collapsed": true,
    "id": "laCRtJs51b6z"
   },
   "source": [
    "# Determines"
   ]
  },
  {
   "cell_type": "markdown",
   "metadata": {
    "cell_style": "split",
    "hidden": true,
    "id": "iixh9Bej1b6z"
   },
   "source": [
    "The 2012 US Army Anthropometric Survey (ANSUR II) was executed by the Natick Soldier Research, Development and Engineering Center (NSRDEC) from October 2010 to April 2012 and is comprised of personnel representing the total US Army force to include the US Army Active Duty, Reserves, and National Guard. In addition to the anthropometric and demographic data described below, the ANSUR II database also consists of 3D whole body, foot, and head scans of Soldier participants. These 3D data are not publicly available out of respect for the privacy of ANSUR II participants. The data from this survey are used for a wide range of equipment design, sizing, and tariffing applications within the military and has many potential commercial, industrial, and academic applications.\n",
    "\n",
    "The ANSUR II working databases contain 93 anthropometric measurements which were directly measured, and 15 demographic/administrative variables explained below. The ANSUR II Male working database contains a total sample of 4,082 subjects. The ANSUR II Female working database contains a total sample of 1,986 subjects.\n",
    "\n",
    "\n",
    "DATA DICT:\n",
    "https://data.world/datamil/ansur-ii-data-dictionary/workspace/file?filename=ANSUR+II+Databases+Overview.pdf\n",
    "\n",
    "---\n",
    "\n",
    "To achieve high prediction success, you must understand the data well and develop different approaches that can affect the dependent variable.\n",
    "\n",
    "Firstly, try to understand the dataset column by column using pandas module. Do research within the scope of domain (body scales, and race characteristics) knowledge on the internet to get to know the data set in the fastest way. \n",
    "\n",
    "You will implement ***Logistic Regression, Support Vector Machine, XGBoost, Random Forest*** algorithms. Also, evaluate the success of your models with appropriate performance metrics.\n",
    "\n",
    "At the end of the project, choose the most successful model and try to enhance the scores with ***SMOTE*** make it ready to deploy. Furthermore, use ***SHAP*** to explain how the best model you choose works."
   ]
  },
  {
   "cell_type": "markdown",
   "metadata": {
    "cell_style": "split",
    "heading_collapsed": true,
    "id": "P2UckCvP1b60"
   },
   "source": [
    "# Tasks"
   ]
  },
  {
   "cell_type": "markdown",
   "metadata": {
    "cell_style": "split",
    "hidden": true,
    "id": "gCVDEsGB1b60"
   },
   "source": [
    "#### 1. Exploratory Data Analysis (EDA)\n",
    "- Import Libraries, Load Dataset, Exploring Data\n",
    "\n",
    "    *i. Import Libraries*\n",
    "    \n",
    "    *ii. Ingest Data *\n",
    "    \n",
    "    *iii. Explore Data*\n",
    "    \n",
    "    *iv. Outlier Detection*\n",
    "    \n",
    "    *v.  Drop unnecessary features*\n",
    "\n",
    "#### 2. Data Preprocessing\n",
    "- Scale (if needed)\n",
    "- Separete the data frame for evaluation purposes\n",
    "\n",
    "#### 3. Multi-class Classification\n",
    "- Import libraries\n",
    "- Implement SVM Classifer\n",
    "- Implement Decision Tree Classifier\n",
    "- Implement Random Forest Classifer\n",
    "- Implement XGBoost Classifer\n",
    "- Compare The Models\n",
    "\n"
   ]
  },
  {
   "cell_type": "markdown",
   "metadata": {
    "heading_collapsed": true,
    "id": "Y5-Kay1Eqvdj"
   },
   "source": [
    "# EDA\n",
    "- Drop unnecessary colums\n",
    "- Drop DODRace class if value count below 500 (we assume that our data model can't learn if it is below 500)"
   ]
  },
  {
   "cell_type": "markdown",
   "metadata": {
    "heading_collapsed": true,
    "hidden": true,
    "id": "K7UZHtvu1b62"
   },
   "source": [
    "## Import Libraries\n",
    "Besides Numpy and Pandas, you need to import the necessary modules for data visualization, data preprocessing, Model building and tuning.\n",
    "\n",
    "*Note: Check out the course materials.*"
   ]
  },
  {
   "cell_type": "code",
   "execution_count": 1,
   "metadata": {
    "hidden": true,
    "id": "OqnRjwHB1b64"
   },
   "outputs": [],
   "source": [
    "import pandas as pd\n",
    "import numpy as np\n",
    "import matplotlib.pyplot as plt\n",
    "import seaborn as sns\n",
    "import sklearn\n",
    "import xgboost\n",
    "\n",
    "##To display the plots\n",
    "%matplotlib inline\n",
    "\n",
    "# sklearn library for machine learning algorithms, data preprocessing, and evaluation\n",
    "from sklearn.preprocessing import StandardScaler, MinMaxScaler, OneHotEncoder ,OrdinalEncoder\n",
    "\n",
    "from sklearn.model_selection import train_test_split, cross_val_score, cross_validate, GridSearchCV, StratifiedKFold\n",
    "from sklearn.metrics import accuracy_score, f1_score, recall_score, precision_score, make_scorer,roc_curve, auc ,\\\n",
    "                            classification_report,confusion_matrix,plot_confusion_matrix, average_precision_score,\\\n",
    "                            RocCurveDisplay, PrecisionRecallDisplay, roc_auc_score, precision_recall_curve\n",
    "\n",
    "\n",
    "from scikitplot.metrics import plot_roc, precision_recall_curve, plot_precision_recall\n",
    "from sklearn.pipeline import Pipeline\n",
    "from sklearn.linear_model import LogisticRegression\n",
    "from sklearn.svm import SVC\n",
    "from sklearn.ensemble import RandomForestClassifier                             \n",
    "from sklearn.compose import make_column_transformer\n",
    "from xgboost import XGBClassifier\n",
    "\n",
    "\n",
    "# to get rid of the warnings\n",
    "import warnings\n",
    "warnings.filterwarnings('ignore')"
   ]
  },
  {
   "cell_type": "code",
   "execution_count": 2,
   "metadata": {},
   "outputs": [],
   "source": [
    "#!pip install xgboost"
   ]
  },
  {
   "cell_type": "code",
   "execution_count": 3,
   "metadata": {},
   "outputs": [
    {
     "data": {
      "text/plain": [
       "'1.0.2'"
      ]
     },
     "execution_count": 3,
     "metadata": {},
     "output_type": "execute_result"
    }
   ],
   "source": [
    "sklearn.__version__"
   ]
  },
  {
   "cell_type": "code",
   "execution_count": 4,
   "metadata": {},
   "outputs": [
    {
     "data": {
      "text/plain": [
       "'1.6.2'"
      ]
     },
     "execution_count": 4,
     "metadata": {},
     "output_type": "execute_result"
    }
   ],
   "source": [
    "xgboost.__version__"
   ]
  },
  {
   "cell_type": "markdown",
   "metadata": {
    "heading_collapsed": true,
    "hidden": true,
    "id": "C5lJeTBu1b65"
   },
   "source": [
    "## Ingest Data from links below and make a dataframe\n",
    "- Soldiers Male : https://query.data.world/s/h3pbhckz5ck4rc7qmt2wlknlnn7esr\n",
    "- Soldiers Female : https://query.data.world/s/sq27zz4hawg32yfxksqwijxmpwmynq"
   ]
  },
  {
   "cell_type": "code",
   "execution_count": 5,
   "metadata": {
    "colab": {
     "base_uri": "https://localhost:8080/",
     "height": 17
    },
    "hidden": true,
    "id": "tG5BsWraqX_y",
    "outputId": "a6e730fa-6848-4cfc-becb-284fc8cc99e5"
   },
   "outputs": [
    {
     "data": {
      "text/html": [
       "<div>\n",
       "<style scoped>\n",
       "    .dataframe tbody tr th:only-of-type {\n",
       "        vertical-align: middle;\n",
       "    }\n",
       "\n",
       "    .dataframe tbody tr th {\n",
       "        vertical-align: top;\n",
       "    }\n",
       "\n",
       "    .dataframe thead th {\n",
       "        text-align: right;\n",
       "    }\n",
       "</style>\n",
       "<table border=\"1\" class=\"dataframe\">\n",
       "  <thead>\n",
       "    <tr style=\"text-align: right;\">\n",
       "      <th></th>\n",
       "      <th>SubjectId</th>\n",
       "      <th>abdominalextensiondepthsitting</th>\n",
       "      <th>acromialheight</th>\n",
       "      <th>acromionradialelength</th>\n",
       "      <th>anklecircumference</th>\n",
       "      <th>axillaheight</th>\n",
       "      <th>balloffootcircumference</th>\n",
       "      <th>balloffootlength</th>\n",
       "      <th>biacromialbreadth</th>\n",
       "      <th>bicepscircumferenceflexed</th>\n",
       "      <th>...</th>\n",
       "      <th>Branch</th>\n",
       "      <th>PrimaryMOS</th>\n",
       "      <th>SubjectsBirthLocation</th>\n",
       "      <th>SubjectNumericRace</th>\n",
       "      <th>Ethnicity</th>\n",
       "      <th>DODRace</th>\n",
       "      <th>Age</th>\n",
       "      <th>Heightin</th>\n",
       "      <th>Weightlbs</th>\n",
       "      <th>WritingPreference</th>\n",
       "    </tr>\n",
       "  </thead>\n",
       "  <tbody>\n",
       "    <tr>\n",
       "      <th>0</th>\n",
       "      <td>10037</td>\n",
       "      <td>231</td>\n",
       "      <td>1282</td>\n",
       "      <td>301</td>\n",
       "      <td>204</td>\n",
       "      <td>1180</td>\n",
       "      <td>222</td>\n",
       "      <td>177</td>\n",
       "      <td>373</td>\n",
       "      <td>315</td>\n",
       "      <td>...</td>\n",
       "      <td>Combat Support</td>\n",
       "      <td>92Y</td>\n",
       "      <td>Germany</td>\n",
       "      <td>2</td>\n",
       "      <td>NaN</td>\n",
       "      <td>2</td>\n",
       "      <td>26</td>\n",
       "      <td>61</td>\n",
       "      <td>142</td>\n",
       "      <td>Right hand</td>\n",
       "    </tr>\n",
       "    <tr>\n",
       "      <th>1</th>\n",
       "      <td>10038</td>\n",
       "      <td>194</td>\n",
       "      <td>1379</td>\n",
       "      <td>320</td>\n",
       "      <td>207</td>\n",
       "      <td>1292</td>\n",
       "      <td>225</td>\n",
       "      <td>178</td>\n",
       "      <td>372</td>\n",
       "      <td>272</td>\n",
       "      <td>...</td>\n",
       "      <td>Combat Service Support</td>\n",
       "      <td>25U</td>\n",
       "      <td>California</td>\n",
       "      <td>3</td>\n",
       "      <td>Mexican</td>\n",
       "      <td>3</td>\n",
       "      <td>21</td>\n",
       "      <td>64</td>\n",
       "      <td>120</td>\n",
       "      <td>Right hand</td>\n",
       "    </tr>\n",
       "    <tr>\n",
       "      <th>2</th>\n",
       "      <td>10042</td>\n",
       "      <td>183</td>\n",
       "      <td>1369</td>\n",
       "      <td>329</td>\n",
       "      <td>233</td>\n",
       "      <td>1271</td>\n",
       "      <td>237</td>\n",
       "      <td>196</td>\n",
       "      <td>397</td>\n",
       "      <td>300</td>\n",
       "      <td>...</td>\n",
       "      <td>Combat Service Support</td>\n",
       "      <td>35D</td>\n",
       "      <td>Texas</td>\n",
       "      <td>1</td>\n",
       "      <td>NaN</td>\n",
       "      <td>1</td>\n",
       "      <td>23</td>\n",
       "      <td>68</td>\n",
       "      <td>147</td>\n",
       "      <td>Right hand</td>\n",
       "    </tr>\n",
       "    <tr>\n",
       "      <th>3</th>\n",
       "      <td>10043</td>\n",
       "      <td>261</td>\n",
       "      <td>1356</td>\n",
       "      <td>306</td>\n",
       "      <td>214</td>\n",
       "      <td>1250</td>\n",
       "      <td>240</td>\n",
       "      <td>188</td>\n",
       "      <td>384</td>\n",
       "      <td>364</td>\n",
       "      <td>...</td>\n",
       "      <td>Combat Service Support</td>\n",
       "      <td>25U</td>\n",
       "      <td>District of Columbia</td>\n",
       "      <td>8</td>\n",
       "      <td>Caribbean Islander</td>\n",
       "      <td>2</td>\n",
       "      <td>22</td>\n",
       "      <td>66</td>\n",
       "      <td>175</td>\n",
       "      <td>Right hand</td>\n",
       "    </tr>\n",
       "    <tr>\n",
       "      <th>4</th>\n",
       "      <td>10051</td>\n",
       "      <td>309</td>\n",
       "      <td>1303</td>\n",
       "      <td>308</td>\n",
       "      <td>214</td>\n",
       "      <td>1210</td>\n",
       "      <td>217</td>\n",
       "      <td>182</td>\n",
       "      <td>378</td>\n",
       "      <td>320</td>\n",
       "      <td>...</td>\n",
       "      <td>Combat Arms</td>\n",
       "      <td>42A</td>\n",
       "      <td>Texas</td>\n",
       "      <td>1</td>\n",
       "      <td>NaN</td>\n",
       "      <td>1</td>\n",
       "      <td>45</td>\n",
       "      <td>63</td>\n",
       "      <td>195</td>\n",
       "      <td>Right hand</td>\n",
       "    </tr>\n",
       "  </tbody>\n",
       "</table>\n",
       "<p>5 rows × 108 columns</p>\n",
       "</div>"
      ],
      "text/plain": [
       "   SubjectId  abdominalextensiondepthsitting  acromialheight  \\\n",
       "0      10037                             231            1282   \n",
       "1      10038                             194            1379   \n",
       "2      10042                             183            1369   \n",
       "3      10043                             261            1356   \n",
       "4      10051                             309            1303   \n",
       "\n",
       "   acromionradialelength  anklecircumference  axillaheight  \\\n",
       "0                    301                 204          1180   \n",
       "1                    320                 207          1292   \n",
       "2                    329                 233          1271   \n",
       "3                    306                 214          1250   \n",
       "4                    308                 214          1210   \n",
       "\n",
       "   balloffootcircumference  balloffootlength  biacromialbreadth  \\\n",
       "0                      222               177                373   \n",
       "1                      225               178                372   \n",
       "2                      237               196                397   \n",
       "3                      240               188                384   \n",
       "4                      217               182                378   \n",
       "\n",
       "   bicepscircumferenceflexed  ...                  Branch  PrimaryMOS  \\\n",
       "0                        315  ...          Combat Support         92Y   \n",
       "1                        272  ...  Combat Service Support         25U   \n",
       "2                        300  ...  Combat Service Support         35D   \n",
       "3                        364  ...  Combat Service Support         25U   \n",
       "4                        320  ...             Combat Arms         42A   \n",
       "\n",
       "   SubjectsBirthLocation  SubjectNumericRace           Ethnicity  DODRace  \\\n",
       "0                Germany                   2                 NaN        2   \n",
       "1             California                   3             Mexican        3   \n",
       "2                  Texas                   1                 NaN        1   \n",
       "3   District of Columbia                   8  Caribbean Islander        2   \n",
       "4                  Texas                   1                 NaN        1   \n",
       "\n",
       "   Age  Heightin  Weightlbs  WritingPreference  \n",
       "0   26        61        142         Right hand  \n",
       "1   21        64        120         Right hand  \n",
       "2   23        68        147         Right hand  \n",
       "3   22        66        175         Right hand  \n",
       "4   45        63        195         Right hand  \n",
       "\n",
       "[5 rows x 108 columns]"
      ]
     },
     "execution_count": 5,
     "metadata": {},
     "output_type": "execute_result"
    }
   ],
   "source": [
    "df_f = pd.read_csv('ANSUR II FEMALE Public.csv')\n",
    "df_f.head()"
   ]
  },
  {
   "cell_type": "code",
   "execution_count": 6,
   "metadata": {},
   "outputs": [
    {
     "data": {
      "text/html": [
       "<div>\n",
       "<style scoped>\n",
       "    .dataframe tbody tr th:only-of-type {\n",
       "        vertical-align: middle;\n",
       "    }\n",
       "\n",
       "    .dataframe tbody tr th {\n",
       "        vertical-align: top;\n",
       "    }\n",
       "\n",
       "    .dataframe thead th {\n",
       "        text-align: right;\n",
       "    }\n",
       "</style>\n",
       "<table border=\"1\" class=\"dataframe\">\n",
       "  <thead>\n",
       "    <tr style=\"text-align: right;\">\n",
       "      <th></th>\n",
       "      <th>subjectid</th>\n",
       "      <th>abdominalextensiondepthsitting</th>\n",
       "      <th>acromialheight</th>\n",
       "      <th>acromionradialelength</th>\n",
       "      <th>anklecircumference</th>\n",
       "      <th>axillaheight</th>\n",
       "      <th>balloffootcircumference</th>\n",
       "      <th>balloffootlength</th>\n",
       "      <th>biacromialbreadth</th>\n",
       "      <th>bicepscircumferenceflexed</th>\n",
       "      <th>...</th>\n",
       "      <th>Branch</th>\n",
       "      <th>PrimaryMOS</th>\n",
       "      <th>SubjectsBirthLocation</th>\n",
       "      <th>SubjectNumericRace</th>\n",
       "      <th>Ethnicity</th>\n",
       "      <th>DODRace</th>\n",
       "      <th>Age</th>\n",
       "      <th>Heightin</th>\n",
       "      <th>Weightlbs</th>\n",
       "      <th>WritingPreference</th>\n",
       "    </tr>\n",
       "  </thead>\n",
       "  <tbody>\n",
       "    <tr>\n",
       "      <th>0</th>\n",
       "      <td>10027</td>\n",
       "      <td>266</td>\n",
       "      <td>1467</td>\n",
       "      <td>337</td>\n",
       "      <td>222</td>\n",
       "      <td>1347</td>\n",
       "      <td>253</td>\n",
       "      <td>202</td>\n",
       "      <td>401</td>\n",
       "      <td>369</td>\n",
       "      <td>...</td>\n",
       "      <td>Combat Arms</td>\n",
       "      <td>19D</td>\n",
       "      <td>North Dakota</td>\n",
       "      <td>1</td>\n",
       "      <td>NaN</td>\n",
       "      <td>1</td>\n",
       "      <td>41</td>\n",
       "      <td>71</td>\n",
       "      <td>180</td>\n",
       "      <td>Right hand</td>\n",
       "    </tr>\n",
       "    <tr>\n",
       "      <th>1</th>\n",
       "      <td>10032</td>\n",
       "      <td>233</td>\n",
       "      <td>1395</td>\n",
       "      <td>326</td>\n",
       "      <td>220</td>\n",
       "      <td>1293</td>\n",
       "      <td>245</td>\n",
       "      <td>193</td>\n",
       "      <td>394</td>\n",
       "      <td>338</td>\n",
       "      <td>...</td>\n",
       "      <td>Combat Support</td>\n",
       "      <td>68W</td>\n",
       "      <td>New York</td>\n",
       "      <td>1</td>\n",
       "      <td>NaN</td>\n",
       "      <td>1</td>\n",
       "      <td>35</td>\n",
       "      <td>68</td>\n",
       "      <td>160</td>\n",
       "      <td>Left hand</td>\n",
       "    </tr>\n",
       "    <tr>\n",
       "      <th>2</th>\n",
       "      <td>10033</td>\n",
       "      <td>287</td>\n",
       "      <td>1430</td>\n",
       "      <td>341</td>\n",
       "      <td>230</td>\n",
       "      <td>1327</td>\n",
       "      <td>256</td>\n",
       "      <td>196</td>\n",
       "      <td>427</td>\n",
       "      <td>408</td>\n",
       "      <td>...</td>\n",
       "      <td>Combat Support</td>\n",
       "      <td>68W</td>\n",
       "      <td>New York</td>\n",
       "      <td>2</td>\n",
       "      <td>NaN</td>\n",
       "      <td>2</td>\n",
       "      <td>42</td>\n",
       "      <td>68</td>\n",
       "      <td>205</td>\n",
       "      <td>Left hand</td>\n",
       "    </tr>\n",
       "    <tr>\n",
       "      <th>3</th>\n",
       "      <td>10092</td>\n",
       "      <td>234</td>\n",
       "      <td>1347</td>\n",
       "      <td>310</td>\n",
       "      <td>230</td>\n",
       "      <td>1239</td>\n",
       "      <td>262</td>\n",
       "      <td>199</td>\n",
       "      <td>401</td>\n",
       "      <td>359</td>\n",
       "      <td>...</td>\n",
       "      <td>Combat Service Support</td>\n",
       "      <td>88M</td>\n",
       "      <td>Wisconsin</td>\n",
       "      <td>1</td>\n",
       "      <td>NaN</td>\n",
       "      <td>1</td>\n",
       "      <td>31</td>\n",
       "      <td>66</td>\n",
       "      <td>175</td>\n",
       "      <td>Right hand</td>\n",
       "    </tr>\n",
       "    <tr>\n",
       "      <th>4</th>\n",
       "      <td>10093</td>\n",
       "      <td>250</td>\n",
       "      <td>1585</td>\n",
       "      <td>372</td>\n",
       "      <td>247</td>\n",
       "      <td>1478</td>\n",
       "      <td>267</td>\n",
       "      <td>224</td>\n",
       "      <td>435</td>\n",
       "      <td>356</td>\n",
       "      <td>...</td>\n",
       "      <td>Combat Service Support</td>\n",
       "      <td>92G</td>\n",
       "      <td>North Carolina</td>\n",
       "      <td>2</td>\n",
       "      <td>NaN</td>\n",
       "      <td>2</td>\n",
       "      <td>21</td>\n",
       "      <td>77</td>\n",
       "      <td>213</td>\n",
       "      <td>Right hand</td>\n",
       "    </tr>\n",
       "  </tbody>\n",
       "</table>\n",
       "<p>5 rows × 108 columns</p>\n",
       "</div>"
      ],
      "text/plain": [
       "   subjectid  abdominalextensiondepthsitting  acromialheight  \\\n",
       "0      10027                             266            1467   \n",
       "1      10032                             233            1395   \n",
       "2      10033                             287            1430   \n",
       "3      10092                             234            1347   \n",
       "4      10093                             250            1585   \n",
       "\n",
       "   acromionradialelength  anklecircumference  axillaheight  \\\n",
       "0                    337                 222          1347   \n",
       "1                    326                 220          1293   \n",
       "2                    341                 230          1327   \n",
       "3                    310                 230          1239   \n",
       "4                    372                 247          1478   \n",
       "\n",
       "   balloffootcircumference  balloffootlength  biacromialbreadth  \\\n",
       "0                      253               202                401   \n",
       "1                      245               193                394   \n",
       "2                      256               196                427   \n",
       "3                      262               199                401   \n",
       "4                      267               224                435   \n",
       "\n",
       "   bicepscircumferenceflexed  ...                  Branch  PrimaryMOS  \\\n",
       "0                        369  ...             Combat Arms         19D   \n",
       "1                        338  ...          Combat Support         68W   \n",
       "2                        408  ...          Combat Support         68W   \n",
       "3                        359  ...  Combat Service Support         88M   \n",
       "4                        356  ...  Combat Service Support         92G   \n",
       "\n",
       "   SubjectsBirthLocation  SubjectNumericRace  Ethnicity  DODRace  Age  \\\n",
       "0           North Dakota                   1        NaN        1   41   \n",
       "1               New York                   1        NaN        1   35   \n",
       "2               New York                   2        NaN        2   42   \n",
       "3              Wisconsin                   1        NaN        1   31   \n",
       "4         North Carolina                   2        NaN        2   21   \n",
       "\n",
       "   Heightin  Weightlbs  WritingPreference  \n",
       "0        71        180         Right hand  \n",
       "1        68        160          Left hand  \n",
       "2        68        205          Left hand  \n",
       "3        66        175         Right hand  \n",
       "4        77        213         Right hand  \n",
       "\n",
       "[5 rows x 108 columns]"
      ]
     },
     "execution_count": 6,
     "metadata": {},
     "output_type": "execute_result"
    }
   ],
   "source": [
    "df_m = pd.read_csv('ANSUR II MALE Public.csv', encoding='latin-1') \n",
    "df_m.head()\n",
    "# ERROR UnicodeDecodeError: 'utf-8' codec can't decode byte 0xe9 in position 1: invalid continuation byte\n",
    "# FIX  pd.read_csv( encoding='latin-1') "
   ]
  },
  {
   "cell_type": "markdown",
   "metadata": {
    "heading_collapsed": true,
    "hidden": true,
    "id": "TMjCTEG51b67"
   },
   "source": [
    "## Explore Data"
   ]
  },
  {
   "cell_type": "code",
   "execution_count": 7,
   "metadata": {},
   "outputs": [
    {
     "data": {
      "text/plain": [
       "(1986, 108)"
      ]
     },
     "execution_count": 7,
     "metadata": {},
     "output_type": "execute_result"
    }
   ],
   "source": [
    "df_f.shape # female dataframe shape"
   ]
  },
  {
   "cell_type": "code",
   "execution_count": 8,
   "metadata": {},
   "outputs": [
    {
     "data": {
      "text/plain": [
       "(4082, 108)"
      ]
     },
     "execution_count": 8,
     "metadata": {},
     "output_type": "execute_result"
    }
   ],
   "source": [
    "df_m.shape"
   ]
  },
  {
   "cell_type": "code",
   "execution_count": 9,
   "metadata": {},
   "outputs": [
    {
     "data": {
      "text/html": [
       "<div>\n",
       "<style scoped>\n",
       "    .dataframe tbody tr th:only-of-type {\n",
       "        vertical-align: middle;\n",
       "    }\n",
       "\n",
       "    .dataframe tbody tr th {\n",
       "        vertical-align: top;\n",
       "    }\n",
       "\n",
       "    .dataframe thead th {\n",
       "        text-align: right;\n",
       "    }\n",
       "</style>\n",
       "<table border=\"1\" class=\"dataframe\">\n",
       "  <thead>\n",
       "    <tr style=\"text-align: right;\">\n",
       "      <th></th>\n",
       "      <th>subjectid</th>\n",
       "      <th>abdominalextensiondepthsitting</th>\n",
       "      <th>acromialheight</th>\n",
       "      <th>acromionradialelength</th>\n",
       "      <th>anklecircumference</th>\n",
       "      <th>axillaheight</th>\n",
       "      <th>balloffootcircumference</th>\n",
       "      <th>balloffootlength</th>\n",
       "      <th>biacromialbreadth</th>\n",
       "      <th>bicepscircumferenceflexed</th>\n",
       "      <th>...</th>\n",
       "      <th>PrimaryMOS</th>\n",
       "      <th>SubjectsBirthLocation</th>\n",
       "      <th>SubjectNumericRace</th>\n",
       "      <th>Ethnicity</th>\n",
       "      <th>DODRace</th>\n",
       "      <th>Age</th>\n",
       "      <th>Heightin</th>\n",
       "      <th>Weightlbs</th>\n",
       "      <th>WritingPreference</th>\n",
       "      <th>SubjectId</th>\n",
       "    </tr>\n",
       "  </thead>\n",
       "  <tbody>\n",
       "    <tr>\n",
       "      <th>0</th>\n",
       "      <td>10027.0</td>\n",
       "      <td>266</td>\n",
       "      <td>1467</td>\n",
       "      <td>337</td>\n",
       "      <td>222</td>\n",
       "      <td>1347</td>\n",
       "      <td>253</td>\n",
       "      <td>202</td>\n",
       "      <td>401</td>\n",
       "      <td>369</td>\n",
       "      <td>...</td>\n",
       "      <td>19D</td>\n",
       "      <td>North Dakota</td>\n",
       "      <td>1</td>\n",
       "      <td>NaN</td>\n",
       "      <td>1</td>\n",
       "      <td>41</td>\n",
       "      <td>71</td>\n",
       "      <td>180</td>\n",
       "      <td>Right hand</td>\n",
       "      <td>NaN</td>\n",
       "    </tr>\n",
       "    <tr>\n",
       "      <th>1</th>\n",
       "      <td>10032.0</td>\n",
       "      <td>233</td>\n",
       "      <td>1395</td>\n",
       "      <td>326</td>\n",
       "      <td>220</td>\n",
       "      <td>1293</td>\n",
       "      <td>245</td>\n",
       "      <td>193</td>\n",
       "      <td>394</td>\n",
       "      <td>338</td>\n",
       "      <td>...</td>\n",
       "      <td>68W</td>\n",
       "      <td>New York</td>\n",
       "      <td>1</td>\n",
       "      <td>NaN</td>\n",
       "      <td>1</td>\n",
       "      <td>35</td>\n",
       "      <td>68</td>\n",
       "      <td>160</td>\n",
       "      <td>Left hand</td>\n",
       "      <td>NaN</td>\n",
       "    </tr>\n",
       "    <tr>\n",
       "      <th>2</th>\n",
       "      <td>10033.0</td>\n",
       "      <td>287</td>\n",
       "      <td>1430</td>\n",
       "      <td>341</td>\n",
       "      <td>230</td>\n",
       "      <td>1327</td>\n",
       "      <td>256</td>\n",
       "      <td>196</td>\n",
       "      <td>427</td>\n",
       "      <td>408</td>\n",
       "      <td>...</td>\n",
       "      <td>68W</td>\n",
       "      <td>New York</td>\n",
       "      <td>2</td>\n",
       "      <td>NaN</td>\n",
       "      <td>2</td>\n",
       "      <td>42</td>\n",
       "      <td>68</td>\n",
       "      <td>205</td>\n",
       "      <td>Left hand</td>\n",
       "      <td>NaN</td>\n",
       "    </tr>\n",
       "    <tr>\n",
       "      <th>3</th>\n",
       "      <td>10092.0</td>\n",
       "      <td>234</td>\n",
       "      <td>1347</td>\n",
       "      <td>310</td>\n",
       "      <td>230</td>\n",
       "      <td>1239</td>\n",
       "      <td>262</td>\n",
       "      <td>199</td>\n",
       "      <td>401</td>\n",
       "      <td>359</td>\n",
       "      <td>...</td>\n",
       "      <td>88M</td>\n",
       "      <td>Wisconsin</td>\n",
       "      <td>1</td>\n",
       "      <td>NaN</td>\n",
       "      <td>1</td>\n",
       "      <td>31</td>\n",
       "      <td>66</td>\n",
       "      <td>175</td>\n",
       "      <td>Right hand</td>\n",
       "      <td>NaN</td>\n",
       "    </tr>\n",
       "    <tr>\n",
       "      <th>4</th>\n",
       "      <td>10093.0</td>\n",
       "      <td>250</td>\n",
       "      <td>1585</td>\n",
       "      <td>372</td>\n",
       "      <td>247</td>\n",
       "      <td>1478</td>\n",
       "      <td>267</td>\n",
       "      <td>224</td>\n",
       "      <td>435</td>\n",
       "      <td>356</td>\n",
       "      <td>...</td>\n",
       "      <td>92G</td>\n",
       "      <td>North Carolina</td>\n",
       "      <td>2</td>\n",
       "      <td>NaN</td>\n",
       "      <td>2</td>\n",
       "      <td>21</td>\n",
       "      <td>77</td>\n",
       "      <td>213</td>\n",
       "      <td>Right hand</td>\n",
       "      <td>NaN</td>\n",
       "    </tr>\n",
       "    <tr>\n",
       "      <th>...</th>\n",
       "      <td>...</td>\n",
       "      <td>...</td>\n",
       "      <td>...</td>\n",
       "      <td>...</td>\n",
       "      <td>...</td>\n",
       "      <td>...</td>\n",
       "      <td>...</td>\n",
       "      <td>...</td>\n",
       "      <td>...</td>\n",
       "      <td>...</td>\n",
       "      <td>...</td>\n",
       "      <td>...</td>\n",
       "      <td>...</td>\n",
       "      <td>...</td>\n",
       "      <td>...</td>\n",
       "      <td>...</td>\n",
       "      <td>...</td>\n",
       "      <td>...</td>\n",
       "      <td>...</td>\n",
       "      <td>...</td>\n",
       "      <td>...</td>\n",
       "    </tr>\n",
       "    <tr>\n",
       "      <th>6063</th>\n",
       "      <td>NaN</td>\n",
       "      <td>285</td>\n",
       "      <td>1392</td>\n",
       "      <td>335</td>\n",
       "      <td>223</td>\n",
       "      <td>1297</td>\n",
       "      <td>252</td>\n",
       "      <td>196</td>\n",
       "      <td>368</td>\n",
       "      <td>299</td>\n",
       "      <td>...</td>\n",
       "      <td>42A</td>\n",
       "      <td>Texas</td>\n",
       "      <td>3</td>\n",
       "      <td>Mexican</td>\n",
       "      <td>3</td>\n",
       "      <td>51</td>\n",
       "      <td>67</td>\n",
       "      <td>180</td>\n",
       "      <td>Right hand</td>\n",
       "      <td>29501.0</td>\n",
       "    </tr>\n",
       "    <tr>\n",
       "      <th>6064</th>\n",
       "      <td>NaN</td>\n",
       "      <td>262</td>\n",
       "      <td>1324</td>\n",
       "      <td>301</td>\n",
       "      <td>202</td>\n",
       "      <td>1204</td>\n",
       "      <td>236</td>\n",
       "      <td>181</td>\n",
       "      <td>378</td>\n",
       "      <td>294</td>\n",
       "      <td>...</td>\n",
       "      <td>25U</td>\n",
       "      <td>Texas</td>\n",
       "      <td>3</td>\n",
       "      <td>Mexican</td>\n",
       "      <td>3</td>\n",
       "      <td>40</td>\n",
       "      <td>63</td>\n",
       "      <td>150</td>\n",
       "      <td>Right hand</td>\n",
       "      <td>29502.0</td>\n",
       "    </tr>\n",
       "    <tr>\n",
       "      <th>6065</th>\n",
       "      <td>NaN</td>\n",
       "      <td>260</td>\n",
       "      <td>1334</td>\n",
       "      <td>318</td>\n",
       "      <td>213</td>\n",
       "      <td>1259</td>\n",
       "      <td>234</td>\n",
       "      <td>183</td>\n",
       "      <td>363</td>\n",
       "      <td>332</td>\n",
       "      <td>...</td>\n",
       "      <td>42A</td>\n",
       "      <td>Texas</td>\n",
       "      <td>2</td>\n",
       "      <td>NaN</td>\n",
       "      <td>2</td>\n",
       "      <td>40</td>\n",
       "      <td>66</td>\n",
       "      <td>168</td>\n",
       "      <td>Right hand</td>\n",
       "      <td>29503.0</td>\n",
       "    </tr>\n",
       "    <tr>\n",
       "      <th>6066</th>\n",
       "      <td>NaN</td>\n",
       "      <td>205</td>\n",
       "      <td>1293</td>\n",
       "      <td>302</td>\n",
       "      <td>199</td>\n",
       "      <td>1207</td>\n",
       "      <td>213</td>\n",
       "      <td>163</td>\n",
       "      <td>376</td>\n",
       "      <td>276</td>\n",
       "      <td>...</td>\n",
       "      <td>92Y</td>\n",
       "      <td>Texas</td>\n",
       "      <td>3</td>\n",
       "      <td>Mexican</td>\n",
       "      <td>3</td>\n",
       "      <td>31</td>\n",
       "      <td>63</td>\n",
       "      <td>133</td>\n",
       "      <td>Right hand</td>\n",
       "      <td>29511.0</td>\n",
       "    </tr>\n",
       "    <tr>\n",
       "      <th>6067</th>\n",
       "      <td>NaN</td>\n",
       "      <td>238</td>\n",
       "      <td>1346</td>\n",
       "      <td>308</td>\n",
       "      <td>210</td>\n",
       "      <td>1256</td>\n",
       "      <td>236</td>\n",
       "      <td>188</td>\n",
       "      <td>361</td>\n",
       "      <td>285</td>\n",
       "      <td>...</td>\n",
       "      <td>92F</td>\n",
       "      <td>Texas</td>\n",
       "      <td>3</td>\n",
       "      <td>Mexican</td>\n",
       "      <td>3</td>\n",
       "      <td>27</td>\n",
       "      <td>66</td>\n",
       "      <td>132</td>\n",
       "      <td>Right hand</td>\n",
       "      <td>920103.0</td>\n",
       "    </tr>\n",
       "  </tbody>\n",
       "</table>\n",
       "<p>6068 rows × 109 columns</p>\n",
       "</div>"
      ],
      "text/plain": [
       "      subjectid  abdominalextensiondepthsitting  acromialheight  \\\n",
       "0       10027.0                             266            1467   \n",
       "1       10032.0                             233            1395   \n",
       "2       10033.0                             287            1430   \n",
       "3       10092.0                             234            1347   \n",
       "4       10093.0                             250            1585   \n",
       "...         ...                             ...             ...   \n",
       "6063        NaN                             285            1392   \n",
       "6064        NaN                             262            1324   \n",
       "6065        NaN                             260            1334   \n",
       "6066        NaN                             205            1293   \n",
       "6067        NaN                             238            1346   \n",
       "\n",
       "      acromionradialelength  anklecircumference  axillaheight  \\\n",
       "0                       337                 222          1347   \n",
       "1                       326                 220          1293   \n",
       "2                       341                 230          1327   \n",
       "3                       310                 230          1239   \n",
       "4                       372                 247          1478   \n",
       "...                     ...                 ...           ...   \n",
       "6063                    335                 223          1297   \n",
       "6064                    301                 202          1204   \n",
       "6065                    318                 213          1259   \n",
       "6066                    302                 199          1207   \n",
       "6067                    308                 210          1256   \n",
       "\n",
       "      balloffootcircumference  balloffootlength  biacromialbreadth  \\\n",
       "0                         253               202                401   \n",
       "1                         245               193                394   \n",
       "2                         256               196                427   \n",
       "3                         262               199                401   \n",
       "4                         267               224                435   \n",
       "...                       ...               ...                ...   \n",
       "6063                      252               196                368   \n",
       "6064                      236               181                378   \n",
       "6065                      234               183                363   \n",
       "6066                      213               163                376   \n",
       "6067                      236               188                361   \n",
       "\n",
       "      bicepscircumferenceflexed  ...  PrimaryMOS  SubjectsBirthLocation  \\\n",
       "0                           369  ...         19D           North Dakota   \n",
       "1                           338  ...         68W               New York   \n",
       "2                           408  ...         68W               New York   \n",
       "3                           359  ...         88M              Wisconsin   \n",
       "4                           356  ...         92G         North Carolina   \n",
       "...                         ...  ...         ...                    ...   \n",
       "6063                        299  ...         42A                  Texas   \n",
       "6064                        294  ...         25U                  Texas   \n",
       "6065                        332  ...         42A                  Texas   \n",
       "6066                        276  ...         92Y                  Texas   \n",
       "6067                        285  ...         92F                  Texas   \n",
       "\n",
       "      SubjectNumericRace  Ethnicity  DODRace  Age  Heightin  Weightlbs  \\\n",
       "0                      1        NaN        1   41        71        180   \n",
       "1                      1        NaN        1   35        68        160   \n",
       "2                      2        NaN        2   42        68        205   \n",
       "3                      1        NaN        1   31        66        175   \n",
       "4                      2        NaN        2   21        77        213   \n",
       "...                  ...        ...      ...  ...       ...        ...   \n",
       "6063                   3    Mexican        3   51        67        180   \n",
       "6064                   3    Mexican        3   40        63        150   \n",
       "6065                   2        NaN        2   40        66        168   \n",
       "6066                   3    Mexican        3   31        63        133   \n",
       "6067                   3    Mexican        3   27        66        132   \n",
       "\n",
       "      WritingPreference  SubjectId  \n",
       "0            Right hand        NaN  \n",
       "1             Left hand        NaN  \n",
       "2             Left hand        NaN  \n",
       "3            Right hand        NaN  \n",
       "4            Right hand        NaN  \n",
       "...                 ...        ...  \n",
       "6063         Right hand    29501.0  \n",
       "6064         Right hand    29502.0  \n",
       "6065         Right hand    29503.0  \n",
       "6066         Right hand    29511.0  \n",
       "6067         Right hand   920103.0  \n",
       "\n",
       "[6068 rows x 109 columns]"
      ]
     },
     "execution_count": 9,
     "metadata": {},
     "output_type": "execute_result"
    }
   ],
   "source": [
    "# combined both dataframes \n",
    "#df= df_f.append(df_m, ignore_index=True) # merge both f & m datafream into one \n",
    "#OR \n",
    "df = pd.concat([df_m, df_f], axis=0, ignore_index=True)\n",
    "df"
   ]
  },
  {
   "cell_type": "code",
   "execution_count": 10,
   "metadata": {},
   "outputs": [
    {
     "data": {
      "text/plain": [
       "(6068, 109)"
      ]
     },
     "execution_count": 10,
     "metadata": {},
     "output_type": "execute_result"
    }
   ],
   "source": [
    "df.shape"
   ]
  },
  {
   "cell_type": "code",
   "execution_count": 11,
   "metadata": {},
   "outputs": [
    {
     "name": "stdout",
     "output_type": "stream",
     "text": [
      "<class 'pandas.core.frame.DataFrame'>\n",
      "RangeIndex: 6068 entries, 0 to 6067\n",
      "Columns: 109 entries, subjectid to SubjectId\n",
      "dtypes: float64(2), int64(98), object(9)\n",
      "memory usage: 5.0+ MB\n"
     ]
    }
   ],
   "source": [
    "df.info()"
   ]
  },
  {
   "cell_type": "code",
   "execution_count": 12,
   "metadata": {},
   "outputs": [
    {
     "data": {
      "text/html": [
       "<div>\n",
       "<style scoped>\n",
       "    .dataframe tbody tr th:only-of-type {\n",
       "        vertical-align: middle;\n",
       "    }\n",
       "\n",
       "    .dataframe tbody tr th {\n",
       "        vertical-align: top;\n",
       "    }\n",
       "\n",
       "    .dataframe thead th {\n",
       "        text-align: right;\n",
       "    }\n",
       "</style>\n",
       "<table border=\"1\" class=\"dataframe\">\n",
       "  <thead>\n",
       "    <tr style=\"text-align: right;\">\n",
       "      <th></th>\n",
       "      <th>count</th>\n",
       "      <th>mean</th>\n",
       "      <th>std</th>\n",
       "      <th>min</th>\n",
       "      <th>25%</th>\n",
       "      <th>50%</th>\n",
       "      <th>75%</th>\n",
       "      <th>max</th>\n",
       "    </tr>\n",
       "  </thead>\n",
       "  <tbody>\n",
       "    <tr>\n",
       "      <th>subjectid</th>\n",
       "      <td>4082.0</td>\n",
       "      <td>20003.370897</td>\n",
       "      <td>6568.435122</td>\n",
       "      <td>10027.0</td>\n",
       "      <td>14270.25</td>\n",
       "      <td>17236.5</td>\n",
       "      <td>27315.75</td>\n",
       "      <td>29452.0</td>\n",
       "    </tr>\n",
       "    <tr>\n",
       "      <th>abdominalextensiondepthsitting</th>\n",
       "      <td>6068.0</td>\n",
       "      <td>246.468688</td>\n",
       "      <td>37.400106</td>\n",
       "      <td>155.0</td>\n",
       "      <td>219.00</td>\n",
       "      <td>242.0</td>\n",
       "      <td>271.00</td>\n",
       "      <td>451.0</td>\n",
       "    </tr>\n",
       "    <tr>\n",
       "      <th>acromialheight</th>\n",
       "      <td>6068.0</td>\n",
       "      <td>1406.161338</td>\n",
       "      <td>79.091048</td>\n",
       "      <td>1115.0</td>\n",
       "      <td>1350.00</td>\n",
       "      <td>1410.0</td>\n",
       "      <td>1462.00</td>\n",
       "      <td>1683.0</td>\n",
       "    </tr>\n",
       "    <tr>\n",
       "      <th>acromionradialelength</th>\n",
       "      <td>6068.0</td>\n",
       "      <td>327.374423</td>\n",
       "      <td>20.720018</td>\n",
       "      <td>249.0</td>\n",
       "      <td>313.00</td>\n",
       "      <td>328.0</td>\n",
       "      <td>341.25</td>\n",
       "      <td>393.0</td>\n",
       "    </tr>\n",
       "    <tr>\n",
       "      <th>anklecircumference</th>\n",
       "      <td>6068.0</td>\n",
       "      <td>224.891397</td>\n",
       "      <td>16.051833</td>\n",
       "      <td>156.0</td>\n",
       "      <td>214.00</td>\n",
       "      <td>225.0</td>\n",
       "      <td>235.00</td>\n",
       "      <td>293.0</td>\n",
       "    </tr>\n",
       "    <tr>\n",
       "      <th>...</th>\n",
       "      <td>...</td>\n",
       "      <td>...</td>\n",
       "      <td>...</td>\n",
       "      <td>...</td>\n",
       "      <td>...</td>\n",
       "      <td>...</td>\n",
       "      <td>...</td>\n",
       "      <td>...</td>\n",
       "    </tr>\n",
       "    <tr>\n",
       "      <th>DODRace</th>\n",
       "      <td>6068.0</td>\n",
       "      <td>1.615030</td>\n",
       "      <td>0.979156</td>\n",
       "      <td>1.0</td>\n",
       "      <td>1.00</td>\n",
       "      <td>1.0</td>\n",
       "      <td>2.00</td>\n",
       "      <td>8.0</td>\n",
       "    </tr>\n",
       "    <tr>\n",
       "      <th>Age</th>\n",
       "      <td>6068.0</td>\n",
       "      <td>29.761206</td>\n",
       "      <td>8.674650</td>\n",
       "      <td>17.0</td>\n",
       "      <td>23.00</td>\n",
       "      <td>28.0</td>\n",
       "      <td>36.00</td>\n",
       "      <td>58.0</td>\n",
       "    </tr>\n",
       "    <tr>\n",
       "      <th>Heightin</th>\n",
       "      <td>6068.0</td>\n",
       "      <td>68.257251</td>\n",
       "      <td>3.861954</td>\n",
       "      <td>56.0</td>\n",
       "      <td>66.00</td>\n",
       "      <td>68.0</td>\n",
       "      <td>71.00</td>\n",
       "      <td>94.0</td>\n",
       "    </tr>\n",
       "    <tr>\n",
       "      <th>Weightlbs</th>\n",
       "      <td>6068.0</td>\n",
       "      <td>174.749670</td>\n",
       "      <td>33.691952</td>\n",
       "      <td>0.0</td>\n",
       "      <td>150.00</td>\n",
       "      <td>173.0</td>\n",
       "      <td>196.00</td>\n",
       "      <td>321.0</td>\n",
       "    </tr>\n",
       "    <tr>\n",
       "      <th>SubjectId</th>\n",
       "      <td>1986.0</td>\n",
       "      <td>22306.606244</td>\n",
       "      <td>20904.730297</td>\n",
       "      <td>10037.0</td>\n",
       "      <td>17667.00</td>\n",
       "      <td>22096.5</td>\n",
       "      <td>26089.75</td>\n",
       "      <td>920103.0</td>\n",
       "    </tr>\n",
       "  </tbody>\n",
       "</table>\n",
       "<p>100 rows × 8 columns</p>\n",
       "</div>"
      ],
      "text/plain": [
       "                                 count          mean           std      min  \\\n",
       "subjectid                       4082.0  20003.370897   6568.435122  10027.0   \n",
       "abdominalextensiondepthsitting  6068.0    246.468688     37.400106    155.0   \n",
       "acromialheight                  6068.0   1406.161338     79.091048   1115.0   \n",
       "acromionradialelength           6068.0    327.374423     20.720018    249.0   \n",
       "anklecircumference              6068.0    224.891397     16.051833    156.0   \n",
       "...                                ...           ...           ...      ...   \n",
       "DODRace                         6068.0      1.615030      0.979156      1.0   \n",
       "Age                             6068.0     29.761206      8.674650     17.0   \n",
       "Heightin                        6068.0     68.257251      3.861954     56.0   \n",
       "Weightlbs                       6068.0    174.749670     33.691952      0.0   \n",
       "SubjectId                       1986.0  22306.606244  20904.730297  10037.0   \n",
       "\n",
       "                                     25%      50%       75%       max  \n",
       "subjectid                       14270.25  17236.5  27315.75   29452.0  \n",
       "abdominalextensiondepthsitting    219.00    242.0    271.00     451.0  \n",
       "acromialheight                   1350.00   1410.0   1462.00    1683.0  \n",
       "acromionradialelength             313.00    328.0    341.25     393.0  \n",
       "anklecircumference                214.00    225.0    235.00     293.0  \n",
       "...                                  ...      ...       ...       ...  \n",
       "DODRace                             1.00      1.0      2.00       8.0  \n",
       "Age                                23.00     28.0     36.00      58.0  \n",
       "Heightin                           66.00     68.0     71.00      94.0  \n",
       "Weightlbs                         150.00    173.0    196.00     321.0  \n",
       "SubjectId                       17667.00  22096.5  26089.75  920103.0  \n",
       "\n",
       "[100 rows x 8 columns]"
      ]
     },
     "execution_count": 12,
     "metadata": {},
     "output_type": "execute_result"
    }
   ],
   "source": [
    "df.describe().T"
   ]
  },
  {
   "cell_type": "code",
   "execution_count": 13,
   "metadata": {},
   "outputs": [
    {
     "data": {
      "text/plain": [
       "interscyei                0\n",
       "suprasternaleheight       0\n",
       "stature                   0\n",
       "span                      0\n",
       "sleeveoutseam             0\n",
       "                       ... \n",
       "chestheight               0\n",
       "Heightin                  0\n",
       "subjectid              1986\n",
       "SubjectId              4082\n",
       "Ethnicity              4647\n",
       "Length: 109, dtype: int64"
      ]
     },
     "execution_count": 13,
     "metadata": {},
     "output_type": "execute_result"
    }
   ],
   "source": [
    "df.isna( ).sum( ).sort_values() #Return the number of missing values in each column"
   ]
  },
  {
   "cell_type": "code",
   "execution_count": 14,
   "metadata": {},
   "outputs": [
    {
     "data": {
      "text/html": [
       "<div>\n",
       "<style scoped>\n",
       "    .dataframe tbody tr th:only-of-type {\n",
       "        vertical-align: middle;\n",
       "    }\n",
       "\n",
       "    .dataframe tbody tr th {\n",
       "        vertical-align: top;\n",
       "    }\n",
       "\n",
       "    .dataframe thead th {\n",
       "        text-align: right;\n",
       "    }\n",
       "</style>\n",
       "<table border=\"1\" class=\"dataframe\">\n",
       "  <thead>\n",
       "    <tr style=\"text-align: right;\">\n",
       "      <th></th>\n",
       "      <th>Gender</th>\n",
       "      <th>Date</th>\n",
       "      <th>Installation</th>\n",
       "      <th>Component</th>\n",
       "      <th>Branch</th>\n",
       "      <th>PrimaryMOS</th>\n",
       "      <th>SubjectsBirthLocation</th>\n",
       "      <th>Ethnicity</th>\n",
       "      <th>WritingPreference</th>\n",
       "    </tr>\n",
       "  </thead>\n",
       "  <tbody>\n",
       "    <tr>\n",
       "      <th>0</th>\n",
       "      <td>Male</td>\n",
       "      <td>4-Oct-10</td>\n",
       "      <td>Fort Hood</td>\n",
       "      <td>Regular Army</td>\n",
       "      <td>Combat Arms</td>\n",
       "      <td>19D</td>\n",
       "      <td>North Dakota</td>\n",
       "      <td>NaN</td>\n",
       "      <td>Right hand</td>\n",
       "    </tr>\n",
       "    <tr>\n",
       "      <th>1</th>\n",
       "      <td>Male</td>\n",
       "      <td>4-Oct-10</td>\n",
       "      <td>Fort Hood</td>\n",
       "      <td>Regular Army</td>\n",
       "      <td>Combat Support</td>\n",
       "      <td>68W</td>\n",
       "      <td>New York</td>\n",
       "      <td>NaN</td>\n",
       "      <td>Left hand</td>\n",
       "    </tr>\n",
       "    <tr>\n",
       "      <th>2</th>\n",
       "      <td>Male</td>\n",
       "      <td>4-Oct-10</td>\n",
       "      <td>Fort Hood</td>\n",
       "      <td>Regular Army</td>\n",
       "      <td>Combat Support</td>\n",
       "      <td>68W</td>\n",
       "      <td>New York</td>\n",
       "      <td>NaN</td>\n",
       "      <td>Left hand</td>\n",
       "    </tr>\n",
       "    <tr>\n",
       "      <th>3</th>\n",
       "      <td>Male</td>\n",
       "      <td>12-Oct-10</td>\n",
       "      <td>Fort Hood</td>\n",
       "      <td>Regular Army</td>\n",
       "      <td>Combat Service Support</td>\n",
       "      <td>88M</td>\n",
       "      <td>Wisconsin</td>\n",
       "      <td>NaN</td>\n",
       "      <td>Right hand</td>\n",
       "    </tr>\n",
       "    <tr>\n",
       "      <th>4</th>\n",
       "      <td>Male</td>\n",
       "      <td>12-Oct-10</td>\n",
       "      <td>Fort Hood</td>\n",
       "      <td>Regular Army</td>\n",
       "      <td>Combat Service Support</td>\n",
       "      <td>92G</td>\n",
       "      <td>North Carolina</td>\n",
       "      <td>NaN</td>\n",
       "      <td>Right hand</td>\n",
       "    </tr>\n",
       "    <tr>\n",
       "      <th>...</th>\n",
       "      <td>...</td>\n",
       "      <td>...</td>\n",
       "      <td>...</td>\n",
       "      <td>...</td>\n",
       "      <td>...</td>\n",
       "      <td>...</td>\n",
       "      <td>...</td>\n",
       "      <td>...</td>\n",
       "      <td>...</td>\n",
       "    </tr>\n",
       "    <tr>\n",
       "      <th>6063</th>\n",
       "      <td>Female</td>\n",
       "      <td>5-Apr-12</td>\n",
       "      <td>Camp Shelby</td>\n",
       "      <td>Army National Guard</td>\n",
       "      <td>Combat Support</td>\n",
       "      <td>42A</td>\n",
       "      <td>Texas</td>\n",
       "      <td>Mexican</td>\n",
       "      <td>Right hand</td>\n",
       "    </tr>\n",
       "    <tr>\n",
       "      <th>6064</th>\n",
       "      <td>Female</td>\n",
       "      <td>5-Apr-12</td>\n",
       "      <td>Camp Shelby</td>\n",
       "      <td>Army National Guard</td>\n",
       "      <td>Combat Support</td>\n",
       "      <td>25U</td>\n",
       "      <td>Texas</td>\n",
       "      <td>Mexican</td>\n",
       "      <td>Right hand</td>\n",
       "    </tr>\n",
       "    <tr>\n",
       "      <th>6065</th>\n",
       "      <td>Female</td>\n",
       "      <td>5-Apr-12</td>\n",
       "      <td>Camp Shelby</td>\n",
       "      <td>Army National Guard</td>\n",
       "      <td>Combat Support</td>\n",
       "      <td>42A</td>\n",
       "      <td>Texas</td>\n",
       "      <td>NaN</td>\n",
       "      <td>Right hand</td>\n",
       "    </tr>\n",
       "    <tr>\n",
       "      <th>6066</th>\n",
       "      <td>Female</td>\n",
       "      <td>5-Apr-12</td>\n",
       "      <td>Camp Shelby</td>\n",
       "      <td>Army National Guard</td>\n",
       "      <td>Combat Support</td>\n",
       "      <td>92Y</td>\n",
       "      <td>Texas</td>\n",
       "      <td>Mexican</td>\n",
       "      <td>Right hand</td>\n",
       "    </tr>\n",
       "    <tr>\n",
       "      <th>6067</th>\n",
       "      <td>Female</td>\n",
       "      <td>28-May-11</td>\n",
       "      <td>Fort McCoy</td>\n",
       "      <td>Army National Guard</td>\n",
       "      <td>Combat Support</td>\n",
       "      <td>92F</td>\n",
       "      <td>Texas</td>\n",
       "      <td>Mexican</td>\n",
       "      <td>Right hand</td>\n",
       "    </tr>\n",
       "  </tbody>\n",
       "</table>\n",
       "<p>6068 rows × 9 columns</p>\n",
       "</div>"
      ],
      "text/plain": [
       "      Gender       Date Installation            Component  \\\n",
       "0       Male   4-Oct-10    Fort Hood         Regular Army   \n",
       "1       Male   4-Oct-10    Fort Hood         Regular Army   \n",
       "2       Male   4-Oct-10    Fort Hood         Regular Army   \n",
       "3       Male  12-Oct-10    Fort Hood         Regular Army   \n",
       "4       Male  12-Oct-10    Fort Hood         Regular Army   \n",
       "...      ...        ...          ...                  ...   \n",
       "6063  Female   5-Apr-12  Camp Shelby  Army National Guard   \n",
       "6064  Female   5-Apr-12  Camp Shelby  Army National Guard   \n",
       "6065  Female   5-Apr-12  Camp Shelby  Army National Guard   \n",
       "6066  Female   5-Apr-12  Camp Shelby  Army National Guard   \n",
       "6067  Female  28-May-11   Fort McCoy  Army National Guard   \n",
       "\n",
       "                      Branch PrimaryMOS SubjectsBirthLocation Ethnicity  \\\n",
       "0                Combat Arms        19D          North Dakota       NaN   \n",
       "1             Combat Support        68W              New York       NaN   \n",
       "2             Combat Support        68W              New York       NaN   \n",
       "3     Combat Service Support        88M             Wisconsin       NaN   \n",
       "4     Combat Service Support        92G        North Carolina       NaN   \n",
       "...                      ...        ...                   ...       ...   \n",
       "6063          Combat Support        42A                 Texas   Mexican   \n",
       "6064          Combat Support        25U                 Texas   Mexican   \n",
       "6065          Combat Support        42A                 Texas       NaN   \n",
       "6066          Combat Support        92Y                 Texas   Mexican   \n",
       "6067          Combat Support        92F                 Texas   Mexican   \n",
       "\n",
       "     WritingPreference  \n",
       "0           Right hand  \n",
       "1            Left hand  \n",
       "2            Left hand  \n",
       "3           Right hand  \n",
       "4           Right hand  \n",
       "...                ...  \n",
       "6063        Right hand  \n",
       "6064        Right hand  \n",
       "6065        Right hand  \n",
       "6066        Right hand  \n",
       "6067        Right hand  \n",
       "\n",
       "[6068 rows x 9 columns]"
      ]
     },
     "execution_count": 14,
     "metadata": {},
     "output_type": "execute_result"
    }
   ],
   "source": [
    "df.select_dtypes(include='object') #to filter only object type features might drop"
   ]
  },
  {
   "cell_type": "code",
   "execution_count": 15,
   "metadata": {},
   "outputs": [
    {
     "name": "stdout",
     "output_type": "stream",
     "text": [
      "White               3792\n",
      "Black               1298\n",
      "Hispanic             679\n",
      "Asian                188\n",
      "Pacific Islander      59\n",
      "Native American       49\n",
      "Other                  3\n",
      "Name: DODRace, dtype: int64\n"
     ]
    },
    {
     "data": {
      "image/png": "[encoded data removed]",
      "text/plain": [
       "<Figure size 720x720 with 1 Axes>"
      ]
     },
     "metadata": {},
     "output_type": "display_data"
    }
   ],
   "source": [
    "#Drop DODRace class if value count below 500 (we assume that our data model can't learn if it is below 500)\n",
    "df[\"DODRace\"] = df.DODRace.map(\n",
    "    {\n",
    "        1: \"White\",\n",
    "        2: \"Black\",\n",
    "        3: \"Hispanic\",\n",
    "        4: \"Asian\",\n",
    "        5: \"Native American\",\n",
    "        6: \"Pacific Islander\",\n",
    "        8: \"Other\",\n",
    "    }\n",
    ")\n",
    "df[\"DODRace\"].value_counts().plot(kind = \"pie\", figsize=(10, 10))\n",
    "plt.ylabel(\"\")\n",
    "print(df[\"DODRace\"].value_counts())"
   ]
  },
  {
   "cell_type": "code",
   "execution_count": 16,
   "metadata": {},
   "outputs": [],
   "source": [
    "#df.corr()['DODRace']"
   ]
  },
  {
   "cell_type": "code",
   "execution_count": 17,
   "metadata": {},
   "outputs": [
    {
     "data": {
      "text/html": [
       "<div>\n",
       "<style scoped>\n",
       "    .dataframe tbody tr th:only-of-type {\n",
       "        vertical-align: middle;\n",
       "    }\n",
       "\n",
       "    .dataframe tbody tr th {\n",
       "        vertical-align: top;\n",
       "    }\n",
       "\n",
       "    .dataframe thead th {\n",
       "        text-align: right;\n",
       "    }\n",
       "</style>\n",
       "<table border=\"1\" class=\"dataframe\">\n",
       "  <thead>\n",
       "    <tr style=\"text-align: right;\">\n",
       "      <th></th>\n",
       "      <th>subjectid</th>\n",
       "      <th>abdominalextensiondepthsitting</th>\n",
       "      <th>acromialheight</th>\n",
       "      <th>acromionradialelength</th>\n",
       "      <th>anklecircumference</th>\n",
       "      <th>axillaheight</th>\n",
       "      <th>balloffootcircumference</th>\n",
       "      <th>balloffootlength</th>\n",
       "      <th>biacromialbreadth</th>\n",
       "      <th>bicepscircumferenceflexed</th>\n",
       "      <th>...</th>\n",
       "      <th>PrimaryMOS</th>\n",
       "      <th>SubjectsBirthLocation</th>\n",
       "      <th>SubjectNumericRace</th>\n",
       "      <th>Ethnicity</th>\n",
       "      <th>DODRace</th>\n",
       "      <th>Age</th>\n",
       "      <th>Heightin</th>\n",
       "      <th>Weightlbs</th>\n",
       "      <th>WritingPreference</th>\n",
       "      <th>SubjectId</th>\n",
       "    </tr>\n",
       "  </thead>\n",
       "  <tbody>\n",
       "    <tr>\n",
       "      <th>0</th>\n",
       "      <td>10027.0</td>\n",
       "      <td>266</td>\n",
       "      <td>1467</td>\n",
       "      <td>337</td>\n",
       "      <td>222</td>\n",
       "      <td>1347</td>\n",
       "      <td>253</td>\n",
       "      <td>202</td>\n",
       "      <td>401</td>\n",
       "      <td>369</td>\n",
       "      <td>...</td>\n",
       "      <td>19D</td>\n",
       "      <td>North Dakota</td>\n",
       "      <td>1</td>\n",
       "      <td>NaN</td>\n",
       "      <td>White</td>\n",
       "      <td>41</td>\n",
       "      <td>71</td>\n",
       "      <td>180</td>\n",
       "      <td>Right hand</td>\n",
       "      <td>NaN</td>\n",
       "    </tr>\n",
       "    <tr>\n",
       "      <th>1</th>\n",
       "      <td>10032.0</td>\n",
       "      <td>233</td>\n",
       "      <td>1395</td>\n",
       "      <td>326</td>\n",
       "      <td>220</td>\n",
       "      <td>1293</td>\n",
       "      <td>245</td>\n",
       "      <td>193</td>\n",
       "      <td>394</td>\n",
       "      <td>338</td>\n",
       "      <td>...</td>\n",
       "      <td>68W</td>\n",
       "      <td>New York</td>\n",
       "      <td>1</td>\n",
       "      <td>NaN</td>\n",
       "      <td>White</td>\n",
       "      <td>35</td>\n",
       "      <td>68</td>\n",
       "      <td>160</td>\n",
       "      <td>Left hand</td>\n",
       "      <td>NaN</td>\n",
       "    </tr>\n",
       "    <tr>\n",
       "      <th>2</th>\n",
       "      <td>10033.0</td>\n",
       "      <td>287</td>\n",
       "      <td>1430</td>\n",
       "      <td>341</td>\n",
       "      <td>230</td>\n",
       "      <td>1327</td>\n",
       "      <td>256</td>\n",
       "      <td>196</td>\n",
       "      <td>427</td>\n",
       "      <td>408</td>\n",
       "      <td>...</td>\n",
       "      <td>68W</td>\n",
       "      <td>New York</td>\n",
       "      <td>2</td>\n",
       "      <td>NaN</td>\n",
       "      <td>Black</td>\n",
       "      <td>42</td>\n",
       "      <td>68</td>\n",
       "      <td>205</td>\n",
       "      <td>Left hand</td>\n",
       "      <td>NaN</td>\n",
       "    </tr>\n",
       "    <tr>\n",
       "      <th>3</th>\n",
       "      <td>10092.0</td>\n",
       "      <td>234</td>\n",
       "      <td>1347</td>\n",
       "      <td>310</td>\n",
       "      <td>230</td>\n",
       "      <td>1239</td>\n",
       "      <td>262</td>\n",
       "      <td>199</td>\n",
       "      <td>401</td>\n",
       "      <td>359</td>\n",
       "      <td>...</td>\n",
       "      <td>88M</td>\n",
       "      <td>Wisconsin</td>\n",
       "      <td>1</td>\n",
       "      <td>NaN</td>\n",
       "      <td>White</td>\n",
       "      <td>31</td>\n",
       "      <td>66</td>\n",
       "      <td>175</td>\n",
       "      <td>Right hand</td>\n",
       "      <td>NaN</td>\n",
       "    </tr>\n",
       "    <tr>\n",
       "      <th>4</th>\n",
       "      <td>10093.0</td>\n",
       "      <td>250</td>\n",
       "      <td>1585</td>\n",
       "      <td>372</td>\n",
       "      <td>247</td>\n",
       "      <td>1478</td>\n",
       "      <td>267</td>\n",
       "      <td>224</td>\n",
       "      <td>435</td>\n",
       "      <td>356</td>\n",
       "      <td>...</td>\n",
       "      <td>92G</td>\n",
       "      <td>North Carolina</td>\n",
       "      <td>2</td>\n",
       "      <td>NaN</td>\n",
       "      <td>Black</td>\n",
       "      <td>21</td>\n",
       "      <td>77</td>\n",
       "      <td>213</td>\n",
       "      <td>Right hand</td>\n",
       "      <td>NaN</td>\n",
       "    </tr>\n",
       "    <tr>\n",
       "      <th>...</th>\n",
       "      <td>...</td>\n",
       "      <td>...</td>\n",
       "      <td>...</td>\n",
       "      <td>...</td>\n",
       "      <td>...</td>\n",
       "      <td>...</td>\n",
       "      <td>...</td>\n",
       "      <td>...</td>\n",
       "      <td>...</td>\n",
       "      <td>...</td>\n",
       "      <td>...</td>\n",
       "      <td>...</td>\n",
       "      <td>...</td>\n",
       "      <td>...</td>\n",
       "      <td>...</td>\n",
       "      <td>...</td>\n",
       "      <td>...</td>\n",
       "      <td>...</td>\n",
       "      <td>...</td>\n",
       "      <td>...</td>\n",
       "      <td>...</td>\n",
       "    </tr>\n",
       "    <tr>\n",
       "      <th>6063</th>\n",
       "      <td>NaN</td>\n",
       "      <td>285</td>\n",
       "      <td>1392</td>\n",
       "      <td>335</td>\n",
       "      <td>223</td>\n",
       "      <td>1297</td>\n",
       "      <td>252</td>\n",
       "      <td>196</td>\n",
       "      <td>368</td>\n",
       "      <td>299</td>\n",
       "      <td>...</td>\n",
       "      <td>42A</td>\n",
       "      <td>Texas</td>\n",
       "      <td>3</td>\n",
       "      <td>Mexican</td>\n",
       "      <td>Hispanic</td>\n",
       "      <td>51</td>\n",
       "      <td>67</td>\n",
       "      <td>180</td>\n",
       "      <td>Right hand</td>\n",
       "      <td>29501.0</td>\n",
       "    </tr>\n",
       "    <tr>\n",
       "      <th>6064</th>\n",
       "      <td>NaN</td>\n",
       "      <td>262</td>\n",
       "      <td>1324</td>\n",
       "      <td>301</td>\n",
       "      <td>202</td>\n",
       "      <td>1204</td>\n",
       "      <td>236</td>\n",
       "      <td>181</td>\n",
       "      <td>378</td>\n",
       "      <td>294</td>\n",
       "      <td>...</td>\n",
       "      <td>25U</td>\n",
       "      <td>Texas</td>\n",
       "      <td>3</td>\n",
       "      <td>Mexican</td>\n",
       "      <td>Hispanic</td>\n",
       "      <td>40</td>\n",
       "      <td>63</td>\n",
       "      <td>150</td>\n",
       "      <td>Right hand</td>\n",
       "      <td>29502.0</td>\n",
       "    </tr>\n",
       "    <tr>\n",
       "      <th>6065</th>\n",
       "      <td>NaN</td>\n",
       "      <td>260</td>\n",
       "      <td>1334</td>\n",
       "      <td>318</td>\n",
       "      <td>213</td>\n",
       "      <td>1259</td>\n",
       "      <td>234</td>\n",
       "      <td>183</td>\n",
       "      <td>363</td>\n",
       "      <td>332</td>\n",
       "      <td>...</td>\n",
       "      <td>42A</td>\n",
       "      <td>Texas</td>\n",
       "      <td>2</td>\n",
       "      <td>NaN</td>\n",
       "      <td>Black</td>\n",
       "      <td>40</td>\n",
       "      <td>66</td>\n",
       "      <td>168</td>\n",
       "      <td>Right hand</td>\n",
       "      <td>29503.0</td>\n",
       "    </tr>\n",
       "    <tr>\n",
       "      <th>6066</th>\n",
       "      <td>NaN</td>\n",
       "      <td>205</td>\n",
       "      <td>1293</td>\n",
       "      <td>302</td>\n",
       "      <td>199</td>\n",
       "      <td>1207</td>\n",
       "      <td>213</td>\n",
       "      <td>163</td>\n",
       "      <td>376</td>\n",
       "      <td>276</td>\n",
       "      <td>...</td>\n",
       "      <td>92Y</td>\n",
       "      <td>Texas</td>\n",
       "      <td>3</td>\n",
       "      <td>Mexican</td>\n",
       "      <td>Hispanic</td>\n",
       "      <td>31</td>\n",
       "      <td>63</td>\n",
       "      <td>133</td>\n",
       "      <td>Right hand</td>\n",
       "      <td>29511.0</td>\n",
       "    </tr>\n",
       "    <tr>\n",
       "      <th>6067</th>\n",
       "      <td>NaN</td>\n",
       "      <td>238</td>\n",
       "      <td>1346</td>\n",
       "      <td>308</td>\n",
       "      <td>210</td>\n",
       "      <td>1256</td>\n",
       "      <td>236</td>\n",
       "      <td>188</td>\n",
       "      <td>361</td>\n",
       "      <td>285</td>\n",
       "      <td>...</td>\n",
       "      <td>92F</td>\n",
       "      <td>Texas</td>\n",
       "      <td>3</td>\n",
       "      <td>Mexican</td>\n",
       "      <td>Hispanic</td>\n",
       "      <td>27</td>\n",
       "      <td>66</td>\n",
       "      <td>132</td>\n",
       "      <td>Right hand</td>\n",
       "      <td>920103.0</td>\n",
       "    </tr>\n",
       "  </tbody>\n",
       "</table>\n",
       "<p>5769 rows × 109 columns</p>\n",
       "</div>"
      ],
      "text/plain": [
       "      subjectid  abdominalextensiondepthsitting  acromialheight  \\\n",
       "0       10027.0                             266            1467   \n",
       "1       10032.0                             233            1395   \n",
       "2       10033.0                             287            1430   \n",
       "3       10092.0                             234            1347   \n",
       "4       10093.0                             250            1585   \n",
       "...         ...                             ...             ...   \n",
       "6063        NaN                             285            1392   \n",
       "6064        NaN                             262            1324   \n",
       "6065        NaN                             260            1334   \n",
       "6066        NaN                             205            1293   \n",
       "6067        NaN                             238            1346   \n",
       "\n",
       "      acromionradialelength  anklecircumference  axillaheight  \\\n",
       "0                       337                 222          1347   \n",
       "1                       326                 220          1293   \n",
       "2                       341                 230          1327   \n",
       "3                       310                 230          1239   \n",
       "4                       372                 247          1478   \n",
       "...                     ...                 ...           ...   \n",
       "6063                    335                 223          1297   \n",
       "6064                    301                 202          1204   \n",
       "6065                    318                 213          1259   \n",
       "6066                    302                 199          1207   \n",
       "6067                    308                 210          1256   \n",
       "\n",
       "      balloffootcircumference  balloffootlength  biacromialbreadth  \\\n",
       "0                         253               202                401   \n",
       "1                         245               193                394   \n",
       "2                         256               196                427   \n",
       "3                         262               199                401   \n",
       "4                         267               224                435   \n",
       "...                       ...               ...                ...   \n",
       "6063                      252               196                368   \n",
       "6064                      236               181                378   \n",
       "6065                      234               183                363   \n",
       "6066                      213               163                376   \n",
       "6067                      236               188                361   \n",
       "\n",
       "      bicepscircumferenceflexed  ...  PrimaryMOS  SubjectsBirthLocation  \\\n",
       "0                           369  ...         19D           North Dakota   \n",
       "1                           338  ...         68W               New York   \n",
       "2                           408  ...         68W               New York   \n",
       "3                           359  ...         88M              Wisconsin   \n",
       "4                           356  ...         92G         North Carolina   \n",
       "...                         ...  ...         ...                    ...   \n",
       "6063                        299  ...         42A                  Texas   \n",
       "6064                        294  ...         25U                  Texas   \n",
       "6065                        332  ...         42A                  Texas   \n",
       "6066                        276  ...         92Y                  Texas   \n",
       "6067                        285  ...         92F                  Texas   \n",
       "\n",
       "      SubjectNumericRace  Ethnicity   DODRace  Age  Heightin  Weightlbs  \\\n",
       "0                      1        NaN     White   41        71        180   \n",
       "1                      1        NaN     White   35        68        160   \n",
       "2                      2        NaN     Black   42        68        205   \n",
       "3                      1        NaN     White   31        66        175   \n",
       "4                      2        NaN     Black   21        77        213   \n",
       "...                  ...        ...       ...  ...       ...        ...   \n",
       "6063                   3    Mexican  Hispanic   51        67        180   \n",
       "6064                   3    Mexican  Hispanic   40        63        150   \n",
       "6065                   2        NaN     Black   40        66        168   \n",
       "6066                   3    Mexican  Hispanic   31        63        133   \n",
       "6067                   3    Mexican  Hispanic   27        66        132   \n",
       "\n",
       "      WritingPreference  SubjectId  \n",
       "0            Right hand        NaN  \n",
       "1             Left hand        NaN  \n",
       "2             Left hand        NaN  \n",
       "3            Right hand        NaN  \n",
       "4            Right hand        NaN  \n",
       "...                 ...        ...  \n",
       "6063         Right hand    29501.0  \n",
       "6064         Right hand    29502.0  \n",
       "6065         Right hand    29503.0  \n",
       "6066         Right hand    29511.0  \n",
       "6067         Right hand   920103.0  \n",
       "\n",
       "[5769 rows x 109 columns]"
      ]
     },
     "execution_count": 17,
     "metadata": {},
     "output_type": "execute_result"
    }
   ],
   "source": [
    "#df.DODRace.value_counts()[df.DODRace.value_counts() <= 500].index\n",
    "# df.DODRace.index.value_counts().drop(labels=[4,5,6,8])\n",
    "# df.DODRace\n",
    "\n",
    "df = df[df[\"DODRace\"].isin([\"White\", \"Black\", \"Hispanic\"])]\n",
    "df"
   ]
  },
  {
   "cell_type": "code",
   "execution_count": 18,
   "metadata": {},
   "outputs": [],
   "source": [
    "df.reset_index(drop=True, inplace=True)"
   ]
  },
  {
   "cell_type": "code",
   "execution_count": 19,
   "metadata": {},
   "outputs": [
    {
     "data": {
      "text/plain": [
       "White       3792\n",
       "Black       1298\n",
       "Hispanic     679\n",
       "Name: DODRace, dtype: int64"
      ]
     },
     "execution_count": 19,
     "metadata": {},
     "output_type": "execute_result"
    }
   ],
   "source": [
    "df.DODRace.value_counts()"
   ]
  },
  {
   "cell_type": "code",
   "execution_count": 20,
   "metadata": {},
   "outputs": [
    {
     "data": {
      "text/plain": [
       "(5769, 109)"
      ]
     },
     "execution_count": 20,
     "metadata": {},
     "output_type": "execute_result"
    }
   ],
   "source": [
    "df.shape"
   ]
  },
  {
   "cell_type": "code",
   "execution_count": 21,
   "metadata": {},
   "outputs": [
    {
     "data": {
      "text/html": [
       "<div>\n",
       "<style scoped>\n",
       "    .dataframe tbody tr th:only-of-type {\n",
       "        vertical-align: middle;\n",
       "    }\n",
       "\n",
       "    .dataframe tbody tr th {\n",
       "        vertical-align: top;\n",
       "    }\n",
       "\n",
       "    .dataframe thead th {\n",
       "        text-align: right;\n",
       "    }\n",
       "</style>\n",
       "<table border=\"1\" class=\"dataframe\">\n",
       "  <thead>\n",
       "    <tr style=\"text-align: right;\">\n",
       "      <th></th>\n",
       "      <th>abdominalextensiondepthsitting</th>\n",
       "      <th>acromialheight</th>\n",
       "      <th>acromionradialelength</th>\n",
       "      <th>anklecircumference</th>\n",
       "      <th>axillaheight</th>\n",
       "      <th>balloffootcircumference</th>\n",
       "      <th>balloffootlength</th>\n",
       "      <th>biacromialbreadth</th>\n",
       "      <th>bicepscircumferenceflexed</th>\n",
       "      <th>bicristalbreadth</th>\n",
       "      <th>...</th>\n",
       "      <th>wristcircumference</th>\n",
       "      <th>wristheight</th>\n",
       "      <th>Gender</th>\n",
       "      <th>SubjectsBirthLocation</th>\n",
       "      <th>SubjectNumericRace</th>\n",
       "      <th>DODRace</th>\n",
       "      <th>Age</th>\n",
       "      <th>Heightin</th>\n",
       "      <th>Weightlbs</th>\n",
       "      <th>WritingPreference</th>\n",
       "    </tr>\n",
       "  </thead>\n",
       "  <tbody>\n",
       "    <tr>\n",
       "      <th>0</th>\n",
       "      <td>266</td>\n",
       "      <td>1467</td>\n",
       "      <td>337</td>\n",
       "      <td>222</td>\n",
       "      <td>1347</td>\n",
       "      <td>253</td>\n",
       "      <td>202</td>\n",
       "      <td>401</td>\n",
       "      <td>369</td>\n",
       "      <td>274</td>\n",
       "      <td>...</td>\n",
       "      <td>175</td>\n",
       "      <td>853</td>\n",
       "      <td>Male</td>\n",
       "      <td>North Dakota</td>\n",
       "      <td>1</td>\n",
       "      <td>White</td>\n",
       "      <td>41</td>\n",
       "      <td>71</td>\n",
       "      <td>180</td>\n",
       "      <td>Right hand</td>\n",
       "    </tr>\n",
       "    <tr>\n",
       "      <th>1</th>\n",
       "      <td>233</td>\n",
       "      <td>1395</td>\n",
       "      <td>326</td>\n",
       "      <td>220</td>\n",
       "      <td>1293</td>\n",
       "      <td>245</td>\n",
       "      <td>193</td>\n",
       "      <td>394</td>\n",
       "      <td>338</td>\n",
       "      <td>257</td>\n",
       "      <td>...</td>\n",
       "      <td>167</td>\n",
       "      <td>815</td>\n",
       "      <td>Male</td>\n",
       "      <td>New York</td>\n",
       "      <td>1</td>\n",
       "      <td>White</td>\n",
       "      <td>35</td>\n",
       "      <td>68</td>\n",
       "      <td>160</td>\n",
       "      <td>Left hand</td>\n",
       "    </tr>\n",
       "    <tr>\n",
       "      <th>2</th>\n",
       "      <td>287</td>\n",
       "      <td>1430</td>\n",
       "      <td>341</td>\n",
       "      <td>230</td>\n",
       "      <td>1327</td>\n",
       "      <td>256</td>\n",
       "      <td>196</td>\n",
       "      <td>427</td>\n",
       "      <td>408</td>\n",
       "      <td>261</td>\n",
       "      <td>...</td>\n",
       "      <td>180</td>\n",
       "      <td>831</td>\n",
       "      <td>Male</td>\n",
       "      <td>New York</td>\n",
       "      <td>2</td>\n",
       "      <td>Black</td>\n",
       "      <td>42</td>\n",
       "      <td>68</td>\n",
       "      <td>205</td>\n",
       "      <td>Left hand</td>\n",
       "    </tr>\n",
       "    <tr>\n",
       "      <th>3</th>\n",
       "      <td>234</td>\n",
       "      <td>1347</td>\n",
       "      <td>310</td>\n",
       "      <td>230</td>\n",
       "      <td>1239</td>\n",
       "      <td>262</td>\n",
       "      <td>199</td>\n",
       "      <td>401</td>\n",
       "      <td>359</td>\n",
       "      <td>262</td>\n",
       "      <td>...</td>\n",
       "      <td>176</td>\n",
       "      <td>793</td>\n",
       "      <td>Male</td>\n",
       "      <td>Wisconsin</td>\n",
       "      <td>1</td>\n",
       "      <td>White</td>\n",
       "      <td>31</td>\n",
       "      <td>66</td>\n",
       "      <td>175</td>\n",
       "      <td>Right hand</td>\n",
       "    </tr>\n",
       "    <tr>\n",
       "      <th>4</th>\n",
       "      <td>250</td>\n",
       "      <td>1585</td>\n",
       "      <td>372</td>\n",
       "      <td>247</td>\n",
       "      <td>1478</td>\n",
       "      <td>267</td>\n",
       "      <td>224</td>\n",
       "      <td>435</td>\n",
       "      <td>356</td>\n",
       "      <td>263</td>\n",
       "      <td>...</td>\n",
       "      <td>188</td>\n",
       "      <td>954</td>\n",
       "      <td>Male</td>\n",
       "      <td>North Carolina</td>\n",
       "      <td>2</td>\n",
       "      <td>Black</td>\n",
       "      <td>21</td>\n",
       "      <td>77</td>\n",
       "      <td>213</td>\n",
       "      <td>Right hand</td>\n",
       "    </tr>\n",
       "    <tr>\n",
       "      <th>...</th>\n",
       "      <td>...</td>\n",
       "      <td>...</td>\n",
       "      <td>...</td>\n",
       "      <td>...</td>\n",
       "      <td>...</td>\n",
       "      <td>...</td>\n",
       "      <td>...</td>\n",
       "      <td>...</td>\n",
       "      <td>...</td>\n",
       "      <td>...</td>\n",
       "      <td>...</td>\n",
       "      <td>...</td>\n",
       "      <td>...</td>\n",
       "      <td>...</td>\n",
       "      <td>...</td>\n",
       "      <td>...</td>\n",
       "      <td>...</td>\n",
       "      <td>...</td>\n",
       "      <td>...</td>\n",
       "      <td>...</td>\n",
       "      <td>...</td>\n",
       "    </tr>\n",
       "    <tr>\n",
       "      <th>5764</th>\n",
       "      <td>285</td>\n",
       "      <td>1392</td>\n",
       "      <td>335</td>\n",
       "      <td>223</td>\n",
       "      <td>1297</td>\n",
       "      <td>252</td>\n",
       "      <td>196</td>\n",
       "      <td>368</td>\n",
       "      <td>299</td>\n",
       "      <td>312</td>\n",
       "      <td>...</td>\n",
       "      <td>162</td>\n",
       "      <td>836</td>\n",
       "      <td>Female</td>\n",
       "      <td>Texas</td>\n",
       "      <td>3</td>\n",
       "      <td>Hispanic</td>\n",
       "      <td>51</td>\n",
       "      <td>67</td>\n",
       "      <td>180</td>\n",
       "      <td>Right hand</td>\n",
       "    </tr>\n",
       "    <tr>\n",
       "      <th>5765</th>\n",
       "      <td>262</td>\n",
       "      <td>1324</td>\n",
       "      <td>301</td>\n",
       "      <td>202</td>\n",
       "      <td>1204</td>\n",
       "      <td>236</td>\n",
       "      <td>181</td>\n",
       "      <td>378</td>\n",
       "      <td>294</td>\n",
       "      <td>287</td>\n",
       "      <td>...</td>\n",
       "      <td>157</td>\n",
       "      <td>804</td>\n",
       "      <td>Female</td>\n",
       "      <td>Texas</td>\n",
       "      <td>3</td>\n",
       "      <td>Hispanic</td>\n",
       "      <td>40</td>\n",
       "      <td>63</td>\n",
       "      <td>150</td>\n",
       "      <td>Right hand</td>\n",
       "    </tr>\n",
       "    <tr>\n",
       "      <th>5766</th>\n",
       "      <td>260</td>\n",
       "      <td>1334</td>\n",
       "      <td>318</td>\n",
       "      <td>213</td>\n",
       "      <td>1259</td>\n",
       "      <td>234</td>\n",
       "      <td>183</td>\n",
       "      <td>363</td>\n",
       "      <td>332</td>\n",
       "      <td>299</td>\n",
       "      <td>...</td>\n",
       "      <td>159</td>\n",
       "      <td>774</td>\n",
       "      <td>Female</td>\n",
       "      <td>Texas</td>\n",
       "      <td>2</td>\n",
       "      <td>Black</td>\n",
       "      <td>40</td>\n",
       "      <td>66</td>\n",
       "      <td>168</td>\n",
       "      <td>Right hand</td>\n",
       "    </tr>\n",
       "    <tr>\n",
       "      <th>5767</th>\n",
       "      <td>205</td>\n",
       "      <td>1293</td>\n",
       "      <td>302</td>\n",
       "      <td>199</td>\n",
       "      <td>1207</td>\n",
       "      <td>213</td>\n",
       "      <td>163</td>\n",
       "      <td>376</td>\n",
       "      <td>276</td>\n",
       "      <td>280</td>\n",
       "      <td>...</td>\n",
       "      <td>146</td>\n",
       "      <td>769</td>\n",
       "      <td>Female</td>\n",
       "      <td>Texas</td>\n",
       "      <td>3</td>\n",
       "      <td>Hispanic</td>\n",
       "      <td>31</td>\n",
       "      <td>63</td>\n",
       "      <td>133</td>\n",
       "      <td>Right hand</td>\n",
       "    </tr>\n",
       "    <tr>\n",
       "      <th>5768</th>\n",
       "      <td>238</td>\n",
       "      <td>1346</td>\n",
       "      <td>308</td>\n",
       "      <td>210</td>\n",
       "      <td>1256</td>\n",
       "      <td>236</td>\n",
       "      <td>188</td>\n",
       "      <td>361</td>\n",
       "      <td>285</td>\n",
       "      <td>279</td>\n",
       "      <td>...</td>\n",
       "      <td>154</td>\n",
       "      <td>797</td>\n",
       "      <td>Female</td>\n",
       "      <td>Texas</td>\n",
       "      <td>3</td>\n",
       "      <td>Hispanic</td>\n",
       "      <td>27</td>\n",
       "      <td>66</td>\n",
       "      <td>132</td>\n",
       "      <td>Right hand</td>\n",
       "    </tr>\n",
       "  </tbody>\n",
       "</table>\n",
       "<p>5769 rows × 101 columns</p>\n",
       "</div>"
      ],
      "text/plain": [
       "      abdominalextensiondepthsitting  acromialheight  acromionradialelength  \\\n",
       "0                                266            1467                    337   \n",
       "1                                233            1395                    326   \n",
       "2                                287            1430                    341   \n",
       "3                                234            1347                    310   \n",
       "4                                250            1585                    372   \n",
       "...                              ...             ...                    ...   \n",
       "5764                             285            1392                    335   \n",
       "5765                             262            1324                    301   \n",
       "5766                             260            1334                    318   \n",
       "5767                             205            1293                    302   \n",
       "5768                             238            1346                    308   \n",
       "\n",
       "      anklecircumference  axillaheight  balloffootcircumference  \\\n",
       "0                    222          1347                      253   \n",
       "1                    220          1293                      245   \n",
       "2                    230          1327                      256   \n",
       "3                    230          1239                      262   \n",
       "4                    247          1478                      267   \n",
       "...                  ...           ...                      ...   \n",
       "5764                 223          1297                      252   \n",
       "5765                 202          1204                      236   \n",
       "5766                 213          1259                      234   \n",
       "5767                 199          1207                      213   \n",
       "5768                 210          1256                      236   \n",
       "\n",
       "      balloffootlength  biacromialbreadth  bicepscircumferenceflexed  \\\n",
       "0                  202                401                        369   \n",
       "1                  193                394                        338   \n",
       "2                  196                427                        408   \n",
       "3                  199                401                        359   \n",
       "4                  224                435                        356   \n",
       "...                ...                ...                        ...   \n",
       "5764               196                368                        299   \n",
       "5765               181                378                        294   \n",
       "5766               183                363                        332   \n",
       "5767               163                376                        276   \n",
       "5768               188                361                        285   \n",
       "\n",
       "      bicristalbreadth  ...  wristcircumference  wristheight  Gender  \\\n",
       "0                  274  ...                 175          853    Male   \n",
       "1                  257  ...                 167          815    Male   \n",
       "2                  261  ...                 180          831    Male   \n",
       "3                  262  ...                 176          793    Male   \n",
       "4                  263  ...                 188          954    Male   \n",
       "...                ...  ...                 ...          ...     ...   \n",
       "5764               312  ...                 162          836  Female   \n",
       "5765               287  ...                 157          804  Female   \n",
       "5766               299  ...                 159          774  Female   \n",
       "5767               280  ...                 146          769  Female   \n",
       "5768               279  ...                 154          797  Female   \n",
       "\n",
       "      SubjectsBirthLocation  SubjectNumericRace   DODRace  Age  Heightin  \\\n",
       "0              North Dakota                   1     White   41        71   \n",
       "1                  New York                   1     White   35        68   \n",
       "2                  New York                   2     Black   42        68   \n",
       "3                 Wisconsin                   1     White   31        66   \n",
       "4            North Carolina                   2     Black   21        77   \n",
       "...                     ...                 ...       ...  ...       ...   \n",
       "5764                  Texas                   3  Hispanic   51        67   \n",
       "5765                  Texas                   3  Hispanic   40        63   \n",
       "5766                  Texas                   2     Black   40        66   \n",
       "5767                  Texas                   3  Hispanic   31        63   \n",
       "5768                  Texas                   3  Hispanic   27        66   \n",
       "\n",
       "      Weightlbs  WritingPreference  \n",
       "0           180         Right hand  \n",
       "1           160          Left hand  \n",
       "2           205          Left hand  \n",
       "3           175         Right hand  \n",
       "4           213         Right hand  \n",
       "...         ...                ...  \n",
       "5764        180         Right hand  \n",
       "5765        150         Right hand  \n",
       "5766        168         Right hand  \n",
       "5767        133         Right hand  \n",
       "5768        132         Right hand  \n",
       "\n",
       "[5769 rows x 101 columns]"
      ]
     },
     "execution_count": 21,
     "metadata": {},
     "output_type": "execute_result"
    }
   ],
   "source": [
    "#drop uncessray coulmns \n",
    "df.drop(columns=[\"SubjectId\",\"subjectid\",\"Date\",'Installation', \n",
    "                 'Component', 'Branch', 'PrimaryMOS', 'Ethnicity' ], inplace=True)\n",
    "\n",
    "#'SubjectsBirthLocation'\n",
    "#'WritingPreference'\n",
    "df.reset_index(drop=True, inplace=True)\n",
    "df"
   ]
  },
  {
   "cell_type": "code",
   "execution_count": 22,
   "metadata": {},
   "outputs": [],
   "source": [
    "#convert catogirical to numerical data\n",
    "# df['Gender'] = df['Gender'].replace(['Female', 'Male'], [0, 1])\n",
    "#df['Gender']"
   ]
  },
  {
   "cell_type": "code",
   "execution_count": 23,
   "metadata": {},
   "outputs": [
    {
     "data": {
      "text/plain": [
       "<AxesSubplot:>"
      ]
     },
     "execution_count": 23,
     "metadata": {},
     "output_type": "execute_result"
    },
    {
     "data": {
      "image/png": "[encoded data removed]",
      "text/plain": [
       "<Figure size 1440x1440 with 2 Axes>"
      ]
     },
     "metadata": {
      "needs_background": "light"
     },
     "output_type": "display_data"
    }
   ],
   "source": [
    "plt.figure(figsize=(20, 20))\n",
    "sns.heatmap(df.corr(),cmap=\"coolwarm\")"
   ]
  },
  {
   "cell_type": "markdown",
   "metadata": {
    "heading_collapsed": true,
    "id": "CS5-GZy0sl4s"
   },
   "source": [
    "# DATA Preprocessing\n",
    "- In this step we divide our data to X(Features) and y(Target) then ,\n",
    "- To train and evaluation purposes we create train and test sets,\n",
    "- Lastly, scale our data if features not in same scale. Why?"
   ]
  },
  {
   "cell_type": "code",
   "execution_count": 24,
   "metadata": {
    "hidden": true,
    "id": "fr2wgpvk1b7B"
   },
   "outputs": [],
   "source": [
    "X = df.drop('DODRace',axis=1)\n",
    "y = df['DODRace']"
   ]
  },
  {
   "cell_type": "code",
   "execution_count": 25,
   "metadata": {},
   "outputs": [],
   "source": [
    "X_train, X_test, y_train, y_test = train_test_split(X, y, test_size=0.25, random_state=101, stratify=y)"
   ]
  },
  {
   "cell_type": "code",
   "execution_count": 26,
   "metadata": {},
   "outputs": [
    {
     "name": "stdout",
     "output_type": "stream",
     "text": [
      "Train features shape :  (4326, 100)\n",
      "Train target shape   :  (4326,)\n",
      "Test features shape  :  (1443, 100)\n",
      "Test target shape    :  (1443,)\n"
     ]
    }
   ],
   "source": [
    "print(\"Train features shape : \", X_train.shape)\n",
    "print(\"Train target shape   : \", y_train.shape)\n",
    "print(\"Test features shape  : \", X_test.shape)\n",
    "print(\"Test target shape    : \", y_test.shape)"
   ]
  },
  {
   "cell_type": "code",
   "execution_count": 27,
   "metadata": {},
   "outputs": [],
   "source": [
    "def eval_metric(model, X_train, y_train, X_test, y_test):\n",
    "    y_train_pred = model.predict(X_train)\n",
    "    y_pred = model.predict(X_test)\n",
    "    \n",
    "    print(\"Test_Set\")\n",
    "    print(confusion_matrix(y_test, y_pred))\n",
    "    print(classification_report(y_test, y_pred))\n",
    "    print(100 * '-')\n",
    "    print(\"Train_Set\")\n",
    "    print(confusion_matrix(y_train, y_train_pred))\n",
    "    print(classification_report(y_train, y_train_pred))\n"
   ]
  },
  {
   "cell_type": "code",
   "execution_count": 28,
   "metadata": {},
   "outputs": [
    {
     "data": {
      "text/plain": [
       "Index(['Gender', 'SubjectsBirthLocation', 'WritingPreference'], dtype='object')"
      ]
     },
     "execution_count": 28,
     "metadata": {},
     "output_type": "execute_result"
    }
   ],
   "source": [
    "cat = X_train.select_dtypes(\"object\").columns\n",
    "cat"
   ]
  },
  {
   "cell_type": "code",
   "execution_count": 29,
   "metadata": {},
   "outputs": [],
   "source": [
    "column_trans = make_column_transformer(\n",
    "    (OneHotEncoder(handle_unknown=\"ignore\", sparse=False), cat),\n",
    "    remainder=MinMaxScaler(),\n",
    "    verbose_feature_names_out=False)"
   ]
  },
  {
   "cell_type": "code",
   "execution_count": 30,
   "metadata": {},
   "outputs": [],
   "source": [
    "operations = [ (\"OneHotEncoder\", column_trans),(\"scaler\", StandardScaler()), (\"logistic\", LogisticRegression())]"
   ]
  },
  {
   "cell_type": "code",
   "execution_count": 31,
   "metadata": {},
   "outputs": [],
   "source": [
    "pipe_model = Pipeline(steps=operations)"
   ]
  },
  {
   "cell_type": "markdown",
   "metadata": {
    "heading_collapsed": true,
    "id": "zfi_NOw0s2fM"
   },
   "source": [
    "# Modelling\n",
    "- Fit the model with train dataset\n",
    "- Get predict from vanilla model on both train and test sets to examine if there is over/underfitting   \n",
    "- Apply GridseachCV for both hyperparemeter tuning and sanity test of our model.\n",
    "- Use hyperparameters that you find from gridsearch and make final prediction and evaluate the result according to chosen metric."
   ]
  },
  {
   "cell_type": "markdown",
   "metadata": {
    "heading_collapsed": true,
    "hidden": true,
    "id": "N1cviBuh1b7C"
   },
   "source": [
    "## 1. Logistic model"
   ]
  },
  {
   "cell_type": "markdown",
   "metadata": {
    "heading_collapsed": true,
    "hidden": true,
    "id": "0rSJ5hxp1b7C"
   },
   "source": [
    "### Vanilla Logistic Model"
   ]
  },
  {
   "cell_type": "code",
   "execution_count": 32,
   "metadata": {
    "id": "rbKDDck012BS"
   },
   "outputs": [
    {
     "data": {
      "text/plain": [
       "Pipeline(steps=[('OneHotEncoder',\n",
       "                 ColumnTransformer(remainder=MinMaxScaler(),\n",
       "                                   transformers=[('onehotencoder',\n",
       "                                                  OneHotEncoder(handle_unknown='ignore',\n",
       "                                                                sparse=False),\n",
       "                                                  Index(['Gender', 'SubjectsBirthLocation', 'WritingPreference'], dtype='object'))],\n",
       "                                   verbose_feature_names_out=False)),\n",
       "                ('scaler', StandardScaler()),\n",
       "                ('logistic', LogisticRegression())])"
      ]
     },
     "execution_count": 32,
     "metadata": {},
     "output_type": "execute_result"
    }
   ],
   "source": [
    "pipe_model.fit(X_train, y_train)"
   ]
  },
  {
   "cell_type": "code",
   "execution_count": 33,
   "metadata": {},
   "outputs": [
    {
     "name": "stdout",
     "output_type": "stream",
     "text": [
      "Test_Set\n",
      "[[295   6  24]\n",
      " [ 12  97  61]\n",
      " [ 19  25 904]]\n",
      "              precision    recall  f1-score   support\n",
      "\n",
      "       Black       0.90      0.91      0.91       325\n",
      "    Hispanic       0.76      0.57      0.65       170\n",
      "       White       0.91      0.95      0.93       948\n",
      "\n",
      "    accuracy                           0.90      1443\n",
      "   macro avg       0.86      0.81      0.83      1443\n",
      "weighted avg       0.89      0.90      0.89      1443\n",
      "\n",
      "----------------------------------------------------------------------------------------------------\n",
      "Train_Set\n",
      "[[ 922    8   43]\n",
      " [  16  336  157]\n",
      " [  19   61 2764]]\n",
      "              precision    recall  f1-score   support\n",
      "\n",
      "       Black       0.96      0.95      0.96       973\n",
      "    Hispanic       0.83      0.66      0.74       509\n",
      "       White       0.93      0.97      0.95      2844\n",
      "\n",
      "    accuracy                           0.93      4326\n",
      "   macro avg       0.91      0.86      0.88      4326\n",
      "weighted avg       0.93      0.93      0.93      4326\n",
      "\n"
     ]
    }
   ],
   "source": [
    "eval_metric(pipe_model, X_train, y_train, X_test, y_test)"
   ]
  },
  {
   "cell_type": "markdown",
   "metadata": {
    "heading_collapsed": true,
    "hidden": true,
    "id": "lPelWxsU1b7C"
   },
   "source": [
    "### Logistic Model GridsearchCV"
   ]
  },
  {
   "cell_type": "code",
   "execution_count": 34,
   "metadata": {
    "id": "PNZyqeNY15nP"
   },
   "outputs": [
    {
     "data": {
      "text/plain": [
       "{'memory': None,\n",
       " 'steps': [('OneHotEncoder',\n",
       "   ColumnTransformer(remainder=MinMaxScaler(),\n",
       "                     transformers=[('onehotencoder',\n",
       "                                    OneHotEncoder(handle_unknown='ignore',\n",
       "                                                  sparse=False),\n",
       "                                    Index(['Gender', 'SubjectsBirthLocation', 'WritingPreference'], dtype='object'))],\n",
       "                     verbose_feature_names_out=False)),\n",
       "  ('scaler', StandardScaler()),\n",
       "  ('logistic', LogisticRegression())],\n",
       " 'verbose': False,\n",
       " 'OneHotEncoder': ColumnTransformer(remainder=MinMaxScaler(),\n",
       "                   transformers=[('onehotencoder',\n",
       "                                  OneHotEncoder(handle_unknown='ignore',\n",
       "                                                sparse=False),\n",
       "                                  Index(['Gender', 'SubjectsBirthLocation', 'WritingPreference'], dtype='object'))],\n",
       "                   verbose_feature_names_out=False),\n",
       " 'scaler': StandardScaler(),\n",
       " 'logistic': LogisticRegression(),\n",
       " 'OneHotEncoder__n_jobs': None,\n",
       " 'OneHotEncoder__remainder__clip': False,\n",
       " 'OneHotEncoder__remainder__copy': True,\n",
       " 'OneHotEncoder__remainder__feature_range': (0, 1),\n",
       " 'OneHotEncoder__remainder': MinMaxScaler(),\n",
       " 'OneHotEncoder__sparse_threshold': 0.3,\n",
       " 'OneHotEncoder__transformer_weights': None,\n",
       " 'OneHotEncoder__transformers': [('onehotencoder',\n",
       "   OneHotEncoder(handle_unknown='ignore', sparse=False),\n",
       "   Index(['Gender', 'SubjectsBirthLocation', 'WritingPreference'], dtype='object'))],\n",
       " 'OneHotEncoder__verbose': False,\n",
       " 'OneHotEncoder__verbose_feature_names_out': False,\n",
       " 'OneHotEncoder__onehotencoder': OneHotEncoder(handle_unknown='ignore', sparse=False),\n",
       " 'OneHotEncoder__onehotencoder__categories': 'auto',\n",
       " 'OneHotEncoder__onehotencoder__drop': None,\n",
       " 'OneHotEncoder__onehotencoder__dtype': numpy.float64,\n",
       " 'OneHotEncoder__onehotencoder__handle_unknown': 'ignore',\n",
       " 'OneHotEncoder__onehotencoder__sparse': False,\n",
       " 'scaler__copy': True,\n",
       " 'scaler__with_mean': True,\n",
       " 'scaler__with_std': True,\n",
       " 'logistic__C': 1.0,\n",
       " 'logistic__class_weight': None,\n",
       " 'logistic__dual': False,\n",
       " 'logistic__fit_intercept': True,\n",
       " 'logistic__intercept_scaling': 1,\n",
       " 'logistic__l1_ratio': None,\n",
       " 'logistic__max_iter': 100,\n",
       " 'logistic__multi_class': 'auto',\n",
       " 'logistic__n_jobs': None,\n",
       " 'logistic__penalty': 'l2',\n",
       " 'logistic__random_state': None,\n",
       " 'logistic__solver': 'lbfgs',\n",
       " 'logistic__tol': 0.0001,\n",
       " 'logistic__verbose': 0,\n",
       " 'logistic__warm_start': False}"
      ]
     },
     "execution_count": 34,
     "metadata": {},
     "output_type": "execute_result"
    }
   ],
   "source": [
    "pipe_model.get_params()"
   ]
  },
  {
   "cell_type": "code",
   "execution_count": 35,
   "metadata": {},
   "outputs": [],
   "source": [
    "operations = [(\"OneHotEncoder\", column_trans), (\"logistic\", LogisticRegression())]"
   ]
  },
  {
   "cell_type": "code",
   "execution_count": 36,
   "metadata": {},
   "outputs": [],
   "source": [
    "model = Pipeline(steps=operations)"
   ]
  },
  {
   "cell_type": "code",
   "execution_count": 37,
   "metadata": {},
   "outputs": [],
   "source": [
    "penalty = [\"l2\"]\n",
    "C = [0.01, 0.1, 1, 5]\n",
    "class_weight= [\"balanced\", None] "
   ]
  },
  {
   "cell_type": "code",
   "execution_count": 38,
   "metadata": {},
   "outputs": [],
   "source": [
    "solver = [\"lbfgs\", \"liblinear\", \"sag\", \"saga\"]\n",
    "\n",
    "param_grid = {\"logistic__penalty\" : penalty,\n",
    "              \"logistic__C\" : C,\n",
    "              \"logistic__class_weight\":class_weight,\n",
    "              \"logistic__solver\":solver}"
   ]
  },
  {
   "cell_type": "code",
   "execution_count": 39,
   "metadata": {},
   "outputs": [],
   "source": [
    "cv = StratifiedKFold(n_splits = 10) #shuffle = True, random_state = 42"
   ]
  },
  {
   "cell_type": "code",
   "execution_count": 42,
   "metadata": {},
   "outputs": [],
   "source": [
    "grid_model = GridSearchCV(estimator=model,\n",
    "                          param_grid=param_grid,\n",
    "                          cv=cv,\n",
    "                          scoring = \"recall\",   # By default, the score of the 1 class is max. it does.\n",
    "                                                 #0 class that max. f1_0 = make_scorer(f1_score, pos_label =0)\n",
    "                          n_jobs = -1,\n",
    "                          #n_jobs = 1,\n",
    "                          return_train_score=True)\n",
    "\n",
    "# Since GridsearchCV also performs Cross Validation, we specify return_train_score=True\n",
    "# to obtain validation and train set scores. (It just returns the metric score we wrote against the scoring)"
   ]
  },
  {
   "cell_type": "code",
   "execution_count": null,
   "metadata": {},
   "outputs": [],
   "source": [
    "grid_model.fit(X_train, y_train)"
   ]
  },
  {
   "cell_type": "code",
   "execution_count": null,
   "metadata": {},
   "outputs": [],
   "source": [
    "grid_model.best_estimator_"
   ]
  },
  {
   "cell_type": "code",
   "execution_count": null,
   "metadata": {},
   "outputs": [],
   "source": [
    "eval_metric(grid_model, X_train, y_train, X_test, y_test)"
   ]
  },
  {
   "cell_type": "code",
   "execution_count": null,
   "metadata": {},
   "outputs": [],
   "source": [
    "operations = [(\"OneHotEncoder\", column_trans), (\"logistic\", LogisticRegression(C=19, max_iter=5000))]\n",
    "\n",
    "model = Pipeline(steps=operations)\n",
    "\n",
    "model.fit(X_train, y_train)\n",
    "\n",
    "y_pred_proba = model.predict_proba(X_test)\n",
    "    \n",
    "plot_precision_recall(y_test, y_pred_proba)\n",
    "plt.show();"
   ]
  },
  {
   "cell_type": "markdown",
   "metadata": {
    "heading_collapsed": true,
    "hidden": true,
    "id": "GM0PL5eZ1b7E"
   },
   "source": [
    "## 2. SVC"
   ]
  },
  {
   "cell_type": "markdown",
   "metadata": {
    "heading_collapsed": true,
    "hidden": true,
    "id": "P3j_Xk1L1b7E"
   },
   "source": [
    "### Vanilla SVC model "
   ]
  },
  {
   "cell_type": "code",
   "execution_count": null,
   "metadata": {},
   "outputs": [],
   "source": [
    "operations = [(\"OneHotEncoder\", column_trans),\n",
    "              (\"SVC\", SVC(class_weight=\"balanced\", random_state=101)),]"
   ]
  },
  {
   "cell_type": "code",
   "execution_count": null,
   "metadata": {},
   "outputs": [],
   "source": [
    "pipe_model = Pipeline(steps=operations)"
   ]
  },
  {
   "cell_type": "code",
   "execution_count": null,
   "metadata": {},
   "outputs": [],
   "source": [
    "pipe_model.fit(X_train, y_train)"
   ]
  },
  {
   "cell_type": "code",
   "execution_count": null,
   "metadata": {},
   "outputs": [],
   "source": [
    "eval_metric(pipe_model, X_train, y_train, X_test, y_test)"
   ]
  },
  {
   "cell_type": "code",
   "execution_count": null,
   "metadata": {},
   "outputs": [],
   "source": [
    "pipe_model = Pipeline(steps=operations)"
   ]
  },
  {
   "cell_type": "code",
   "execution_count": null,
   "metadata": {},
   "outputs": [],
   "source": [
    "scores = cross_validate(pipe_model, \n",
    "                        X_train, \n",
    "                        y_train, \n",
    "                        scoring=['accuracy', 'precision','recall','f1'],\n",
    "                        cv = 10,\n",
    "                        return_train_score=True)\n",
    "df_scores = pd.DataFrame(scores, index = range(1, 11))\n",
    "df_scores.mean()[2:]"
   ]
  },
  {
   "cell_type": "code",
   "execution_count": null,
   "metadata": {},
   "outputs": [],
   "source": [
    "# we can't use the average_precision_score function with the y_test variable because it's not a binary\n",
    "from sklearn.metrics import average_precision_score\n",
    "\n",
    "y_test_dummies = pd.get_dummies(y_test).values  # we do that for the sake of the average_precision_score function.\n",
    "\n",
    "average_precision_score(y_test_dummies[:, 1], y_pred_proba[:, 1])\n",
    "\n",
    "# Returns 0 black, 1 hispanic, 2 white scores.\n",
    "# We got hispanic scores by specifying 1 here.\n",
    "\n",
    "y_pred = grid_model.predict(X_test)\n",
    "\n",
    "log_AP = average_precision_score(y_test_dummies[:, 1], y_pred_proba[:, 1])\n",
    "log_f1 = f1_score(y_test, y_pred, average=None, labels=[\"Hispanic\"])\n",
    "log_recall = recall_score(y_test, y_pred, average=None, labels=[\"Hispanic\"])\n"
   ]
  },
  {
   "cell_type": "code",
   "execution_count": null,
   "metadata": {},
   "outputs": [],
   "source": [
    "scores = cross_validate(pipe_model, \n",
    "                        X_train, \n",
    "                        y_train, \n",
    "                        scoring=['accuracy', 'precision','recall','f1'],\n",
    "                        cv = 10,\n",
    "                        return_train_score=True)\n",
    "df_scores = pd.DataFrame(scores, index = range(1, 11))\n",
    "df_scores.mean()[2:]"
   ]
  },
  {
   "cell_type": "markdown",
   "metadata": {
    "heading_collapsed": true,
    "hidden": true,
    "id": "28y9nWxG1b7E"
   },
   "source": [
    "###  SVC Model GridsearchCV"
   ]
  },
  {
   "cell_type": "code",
   "execution_count": null,
   "metadata": {},
   "outputs": [],
   "source": [
    "param_grid = {'SVC__C': [0.001, 0.05, 0.01, 0.1],\n",
    "              'SVC__gamma': [\"scale\", \"auto\", 0.2, 0.3],\n",
    "              'SVC__kernel': ['rbf', 'linear'],\n",
    "              'SVC__class_weight': [\"balanced\", None]}"
   ]
  },
  {
   "cell_type": "code",
   "execution_count": null,
   "metadata": {},
   "outputs": [],
   "source": [
    "operations = [((\"OneHotEncoder\", column_trans)), (\"SVC\", SVC(class_weight=\"balanced\", random_state=101))]\n",
    "pipe_model = Pipeline(steps=operations)\n",
    "\n",
    "svm_model_grid = GridSearchCV(pipe_model,\n",
    "                              param_grid,\n",
    "                              scoring=\"recall\",\n",
    "                              cv=10,\n",
    "                              return_train_score=True)"
   ]
  },
  {
   "cell_type": "code",
   "execution_count": null,
   "metadata": {},
   "outputs": [],
   "source": [
    "svm_model_grid.fit(X_train, y_train)"
   ]
  },
  {
   "cell_type": "code",
   "execution_count": null,
   "metadata": {},
   "outputs": [],
   "source": [
    "svm_model_grid.best_estimator_"
   ]
  },
  {
   "cell_type": "code",
   "execution_count": null,
   "metadata": {},
   "outputs": [],
   "source": [
    "eval_metric(svm_model_grid, X_train, y_train, X_test, y_test)"
   ]
  },
  {
   "cell_type": "code",
   "execution_count": null,
   "metadata": {},
   "outputs": [],
   "source": [
    "operations = [\n",
    "    (\"OneHotEncoder\", column_trans),\n",
    "    (\"svc\", SVC(C=1, class_weight=\"balanced\", random_state=101)),\n",
    "]\n",
    "\n",
    "model = Pipeline(steps=operations)\n",
    "\n",
    "model.fit(X_train, y_train)\n",
    "\n",
    "decision_function = model.decision_function(X_test)\n",
    "\n",
    "# y_pred_proba = model.predict_proba(X_test)\n",
    "\n",
    "plot_precision_recall(y_test, decision_function)\n",
    "plt.show();"
   ]
  },
  {
   "cell_type": "markdown",
   "metadata": {
    "heading_collapsed": true,
    "hidden": true,
    "id": "bDX_iLIls74C"
   },
   "source": [
    "## 3. RF"
   ]
  },
  {
   "cell_type": "markdown",
   "metadata": {
    "heading_collapsed": true,
    "hidden": true,
    "id": "qaTzrT6P1b7G"
   },
   "source": [
    "### Vanilla RF Model"
   ]
  },
  {
   "cell_type": "code",
   "execution_count": 44,
   "metadata": {},
   "outputs": [],
   "source": [
    "ord_enc = OrdinalEncoder(handle_unknown=\"use_encoded_value\", unknown_value=-1)\n",
    "\n",
    "column_trans = make_column_transformer((ord_enc, cat), remainder=\"passthrough\")"
   ]
  },
  {
   "cell_type": "code",
   "execution_count": 45,
   "metadata": {},
   "outputs": [],
   "source": [
    "operations_rf = [\n",
    "    (\"OrdinalEncoder\", column_trans),\n",
    "    (\"RF_model\", RandomForestClassifier(class_weight=\"balanced\", random_state=101)),\n",
    "]"
   ]
  },
  {
   "cell_type": "code",
   "execution_count": 46,
   "metadata": {},
   "outputs": [],
   "source": [
    "pipe_model_rf = Pipeline(steps=operations_rf)"
   ]
  },
  {
   "cell_type": "code",
   "execution_count": 47,
   "metadata": {},
   "outputs": [
    {
     "data": {
      "text/plain": [
       "Pipeline(steps=[('OrdinalEncoder',\n",
       "                 ColumnTransformer(remainder='passthrough',\n",
       "                                   transformers=[('ordinalencoder',\n",
       "                                                  OrdinalEncoder(handle_unknown='use_encoded_value',\n",
       "                                                                 unknown_value=-1),\n",
       "                                                  Index(['Gender', 'SubjectsBirthLocation', 'WritingPreference'], dtype='object'))])),\n",
       "                ('RF_model',\n",
       "                 RandomForestClassifier(class_weight='balanced',\n",
       "                                        random_state=101))])"
      ]
     },
     "execution_count": 47,
     "metadata": {},
     "output_type": "execute_result"
    }
   ],
   "source": [
    "pipe_model_rf.fit(X_train, y_train)"
   ]
  },
  {
   "cell_type": "code",
   "execution_count": 48,
   "metadata": {},
   "outputs": [
    {
     "name": "stdout",
     "output_type": "stream",
     "text": [
      "Test_Set\n",
      "[[300   6  19]\n",
      " [ 24 111  35]\n",
      " [ 13  16 919]]\n",
      "              precision    recall  f1-score   support\n",
      "\n",
      "       Black       0.89      0.92      0.91       325\n",
      "    Hispanic       0.83      0.65      0.73       170\n",
      "       White       0.94      0.97      0.96       948\n",
      "\n",
      "    accuracy                           0.92      1443\n",
      "   macro avg       0.89      0.85      0.87      1443\n",
      "weighted avg       0.92      0.92      0.92      1443\n",
      "\n",
      "----------------------------------------------------------------------------------------------------\n",
      "Train_Set\n",
      "[[ 973    0    0]\n",
      " [   0  509    0]\n",
      " [   0    0 2844]]\n",
      "              precision    recall  f1-score   support\n",
      "\n",
      "       Black       1.00      1.00      1.00       973\n",
      "    Hispanic       1.00      1.00      1.00       509\n",
      "       White       1.00      1.00      1.00      2844\n",
      "\n",
      "    accuracy                           1.00      4326\n",
      "   macro avg       1.00      1.00      1.00      4326\n",
      "weighted avg       1.00      1.00      1.00      4326\n",
      "\n"
     ]
    }
   ],
   "source": [
    "eval_metric(pipe_model_rf, X_train, y_train, X_test, y_test)"
   ]
  },
  {
   "cell_type": "code",
   "execution_count": null,
   "metadata": {},
   "outputs": [],
   "source": [
    "operations_rf = [\n",
    "    (\"OrdinalEncoder\", column_trans),\n",
    "    (\"RF_model\", RandomForestClassifier(class_weight=\"balanced\", random_state=101)),\n",
    "]\n",
    "\n",
    "model = Pipeline(steps=operations_rf)\n",
    "\n",
    "scores = cross_validate(\n",
    "    model, X_train, y_train, cv=5, n_jobs=-1, return_train_score=True\n",
    ")\n",
    "df_scores = pd.DataFrame(scores, index=range(1, 6))\n",
    "df_scores.mean()[2:]"
   ]
  },
  {
   "cell_type": "markdown",
   "metadata": {
    "heading_collapsed": true,
    "hidden": true,
    "id": "MkLAZ_M41b7G"
   },
   "source": [
    "### RF Model GridsearchCV"
   ]
  },
  {
   "cell_type": "code",
   "execution_count": 50,
   "metadata": {
    "id": "hpmPr3202EbD"
   },
   "outputs": [],
   "source": [
    "# Define the parameter grid for GridSearchCV\n",
    "param_grid = {\n",
    "    'n_estimators': [400, 500],      # Number of trees in the forest\n",
    "    'max_depth': [2, 3]     # Maximum depth of each tree\n",
    "}"
   ]
  },
  {
   "cell_type": "code",
   "execution_count": 51,
   "metadata": {},
   "outputs": [],
   "source": [
    "operations_rf = [\n",
    "    (\"OrdinalEncoder\", column_trans),\n",
    "    (\"RF_model\", RandomForestClassifier(class_weight=\"balanced\",random_state=101)),\n",
    "]"
   ]
  },
  {
   "cell_type": "code",
   "execution_count": 52,
   "metadata": {},
   "outputs": [],
   "source": [
    "model = Pipeline(steps=operations_rf)"
   ]
  },
  {
   "cell_type": "code",
   "execution_count": 53,
   "metadata": {},
   "outputs": [],
   "source": [
    "recall_Hispanic = make_scorer(recall_score, average=None, labels=[\"Hispanic\"])"
   ]
  },
  {
   "cell_type": "code",
   "execution_count": 54,
   "metadata": {},
   "outputs": [],
   "source": [
    "rf_grid_model = GridSearchCV(\n",
    "    model, param_grid, scoring=recall_Hispanic, n_jobs=-1, return_train_score=True\n",
    ")"
   ]
  },
  {
   "cell_type": "code",
   "execution_count": null,
   "metadata": {},
   "outputs": [],
   "source": [
    "rf_grid_model.fit(X_train, y_train)"
   ]
  },
  {
   "cell_type": "code",
   "execution_count": null,
   "metadata": {},
   "outputs": [],
   "source": [
    "eval_metric(rf_grid_model, X_train, y_train, X_test, y_test)"
   ]
  },
  {
   "cell_type": "code",
   "execution_count": null,
   "metadata": {},
   "outputs": [],
   "source": [
    "operations_rf = [\n",
    "    (\"OrdinalEncoder\", column_trans),\n",
    "    (\n",
    "        \"RF_model\",\n",
    "        RandomForestClassifier(\n",
    "            class_weight=\"balanced\", max_depth=2, n_estimators=400, random_state=101\n",
    "        ),\n",
    "    ),\n",
    "]\n",
    "\n",
    "model = Pipeline(steps=operations_rf)\n",
    "\n",
    "model.fit(X_train, y_train)\n",
    "\n",
    "y_pred_proba = model.predict_proba(X_test)\n",
    "\n",
    "plot_precision_recall(y_test, y_pred_proba)\n",
    "plt.show();"
   ]
  },
  {
   "cell_type": "markdown",
   "metadata": {
    "heading_collapsed": true,
    "hidden": true,
    "id": "PvcPc4V81b7H"
   },
   "source": [
    "## 4. XGBoost"
   ]
  },
  {
   "cell_type": "markdown",
   "metadata": {
    "heading_collapsed": true,
    "hidden": true,
    "id": "MuxxUFoW1b7H"
   },
   "source": [
    "### Vanilla XGBoost Model"
   ]
  },
  {
   "cell_type": "code",
   "execution_count": 56,
   "metadata": {},
   "outputs": [
    {
     "data": {
      "text/plain": [
       "Index(['Gender', 'SubjectsBirthLocation', 'WritingPreference'], dtype='object')"
      ]
     },
     "execution_count": 56,
     "metadata": {},
     "output_type": "execute_result"
    }
   ],
   "source": [
    "cat = X_train.select_dtypes(\"object\").columns\n",
    "cat"
   ]
  },
  {
   "cell_type": "code",
   "execution_count": 57,
   "metadata": {},
   "outputs": [],
   "source": [
    "column_trans = make_column_transformer( (OneHotEncoder(handle_unknown=\"ignore\", sparse=False), cat), \n",
    "                                       remainder=MinMaxScaler(),\n",
    "                                       verbose_feature_names_out=False)"
   ]
  },
  {
   "cell_type": "code",
   "execution_count": 58,
   "metadata": {},
   "outputs": [
    {
     "data": {
      "text/plain": [
       "Pipeline(steps=[('OrdinalEncoder',\n",
       "                 ColumnTransformer(remainder=MinMaxScaler(),\n",
       "                                   transformers=[('onehotencoder',\n",
       "                                                  OneHotEncoder(handle_unknown='ignore',\n",
       "                                                                sparse=False),\n",
       "                                                  Index(['Gender', 'SubjectsBirthLocation', 'WritingPreference'], dtype='object'))],\n",
       "                                   verbose_feature_names_out=False)),\n",
       "                ('XGB_model',\n",
       "                 XGBClassifier(base_score=0.5, booster='gbtree', callbacks=None,\n",
       "                               col...\n",
       "                               gamma=0, gpu_id=-1, grow_policy='depthwise',\n",
       "                               importance_type=None, interaction_constraints='',\n",
       "                               learning_rate=0.300000012, max_bin=256,\n",
       "                               max_cat_to_onehot=4, max_delta_step=0,\n",
       "                               max_depth=6, max_leaves=0, min_child_weight=1,\n",
       "                               missing=nan, monotone_constraints='()',\n",
       "                               n_estimators=100, n_jobs=0, num_parallel_tree=1,\n",
       "                               objective='multi:softprob', predictor='auto',\n",
       "                               random_state=101, reg_alpha=0, ...))])"
      ]
     },
     "execution_count": 58,
     "metadata": {},
     "output_type": "execute_result"
    }
   ],
   "source": [
    "operations_xgb = [(\"OrdinalEncoder\", column_trans),(\"XGB_model\", XGBClassifier(random_state=101))]\n",
    "\n",
    "pipe_model_xgb = Pipeline(steps=operations_xgb)\n",
    "# sorting will be same as classification_report.\n",
    "y_train_xgb = y_train.map({\"Black\": 0, \"Hispanic\": 1, \"White\": 2})\n",
    "y_test_xgb = y_test.map({\"Black\": 0, \"Hispanic\": 1, \"White\": 2})\n",
    "# If the target is not numeric in xgb 1.6 and higher versions, it returns an error.\n",
    "# That's why we do the conversion manually.\n",
    "\n",
    "\n",
    "pipe_model_xgb.fit(X_train, y_train_xgb)"
   ]
  },
  {
   "cell_type": "code",
   "execution_count": 59,
   "metadata": {},
   "outputs": [
    {
     "data": {
      "text/html": [
       "<div>\n",
       "<style scoped>\n",
       "    .dataframe tbody tr th:only-of-type {\n",
       "        vertical-align: middle;\n",
       "    }\n",
       "\n",
       "    .dataframe tbody tr th {\n",
       "        vertical-align: top;\n",
       "    }\n",
       "\n",
       "    .dataframe thead th {\n",
       "        text-align: right;\n",
       "    }\n",
       "</style>\n",
       "<table border=\"1\" class=\"dataframe\">\n",
       "  <thead>\n",
       "    <tr style=\"text-align: right;\">\n",
       "      <th></th>\n",
       "      <th>abdominalextensiondepthsitting</th>\n",
       "      <th>acromialheight</th>\n",
       "      <th>acromionradialelength</th>\n",
       "      <th>anklecircumference</th>\n",
       "      <th>axillaheight</th>\n",
       "      <th>balloffootcircumference</th>\n",
       "      <th>balloffootlength</th>\n",
       "      <th>biacromialbreadth</th>\n",
       "      <th>bicepscircumferenceflexed</th>\n",
       "      <th>bicristalbreadth</th>\n",
       "      <th>...</th>\n",
       "      <th>weightkg</th>\n",
       "      <th>wristcircumference</th>\n",
       "      <th>wristheight</th>\n",
       "      <th>Gender</th>\n",
       "      <th>SubjectsBirthLocation</th>\n",
       "      <th>SubjectNumericRace</th>\n",
       "      <th>Age</th>\n",
       "      <th>Heightin</th>\n",
       "      <th>Weightlbs</th>\n",
       "      <th>WritingPreference</th>\n",
       "    </tr>\n",
       "  </thead>\n",
       "  <tbody>\n",
       "    <tr>\n",
       "      <th>5503</th>\n",
       "      <td>265</td>\n",
       "      <td>1310</td>\n",
       "      <td>304</td>\n",
       "      <td>229</td>\n",
       "      <td>1210</td>\n",
       "      <td>226</td>\n",
       "      <td>190</td>\n",
       "      <td>362</td>\n",
       "      <td>329</td>\n",
       "      <td>278</td>\n",
       "      <td>...</td>\n",
       "      <td>762</td>\n",
       "      <td>152</td>\n",
       "      <td>792</td>\n",
       "      <td>Female</td>\n",
       "      <td>Illinois</td>\n",
       "      <td>1</td>\n",
       "      <td>25</td>\n",
       "      <td>64</td>\n",
       "      <td>170</td>\n",
       "      <td>Left hand</td>\n",
       "    </tr>\n",
       "    <tr>\n",
       "      <th>4911</th>\n",
       "      <td>223</td>\n",
       "      <td>1398</td>\n",
       "      <td>330</td>\n",
       "      <td>212</td>\n",
       "      <td>1307</td>\n",
       "      <td>252</td>\n",
       "      <td>193</td>\n",
       "      <td>377</td>\n",
       "      <td>305</td>\n",
       "      <td>260</td>\n",
       "      <td>...</td>\n",
       "      <td>704</td>\n",
       "      <td>155</td>\n",
       "      <td>833</td>\n",
       "      <td>Female</td>\n",
       "      <td>Barbados</td>\n",
       "      <td>8</td>\n",
       "      <td>51</td>\n",
       "      <td>67</td>\n",
       "      <td>155</td>\n",
       "      <td>Right hand</td>\n",
       "    </tr>\n",
       "    <tr>\n",
       "      <th>899</th>\n",
       "      <td>233</td>\n",
       "      <td>1351</td>\n",
       "      <td>317</td>\n",
       "      <td>206</td>\n",
       "      <td>1252</td>\n",
       "      <td>233</td>\n",
       "      <td>184</td>\n",
       "      <td>394</td>\n",
       "      <td>322</td>\n",
       "      <td>263</td>\n",
       "      <td>...</td>\n",
       "      <td>691</td>\n",
       "      <td>165</td>\n",
       "      <td>797</td>\n",
       "      <td>Male</td>\n",
       "      <td>Arkansas</td>\n",
       "      <td>1</td>\n",
       "      <td>31</td>\n",
       "      <td>66</td>\n",
       "      <td>154</td>\n",
       "      <td>Right hand</td>\n",
       "    </tr>\n",
       "    <tr>\n",
       "      <th>4203</th>\n",
       "      <td>203</td>\n",
       "      <td>1251</td>\n",
       "      <td>278</td>\n",
       "      <td>220</td>\n",
       "      <td>1160</td>\n",
       "      <td>228</td>\n",
       "      <td>175</td>\n",
       "      <td>355</td>\n",
       "      <td>302</td>\n",
       "      <td>273</td>\n",
       "      <td>...</td>\n",
       "      <td>701</td>\n",
       "      <td>146</td>\n",
       "      <td>783</td>\n",
       "      <td>Female</td>\n",
       "      <td>Ecuador</td>\n",
       "      <td>3</td>\n",
       "      <td>39</td>\n",
       "      <td>62</td>\n",
       "      <td>148</td>\n",
       "      <td>Right hand</td>\n",
       "    </tr>\n",
       "    <tr>\n",
       "      <th>3838</th>\n",
       "      <td>222</td>\n",
       "      <td>1391</td>\n",
       "      <td>318</td>\n",
       "      <td>228</td>\n",
       "      <td>1278</td>\n",
       "      <td>233</td>\n",
       "      <td>201</td>\n",
       "      <td>402</td>\n",
       "      <td>324</td>\n",
       "      <td>261</td>\n",
       "      <td>...</td>\n",
       "      <td>726</td>\n",
       "      <td>163</td>\n",
       "      <td>819</td>\n",
       "      <td>Male</td>\n",
       "      <td>Oklahoma</td>\n",
       "      <td>1</td>\n",
       "      <td>20</td>\n",
       "      <td>68</td>\n",
       "      <td>160</td>\n",
       "      <td>Right hand</td>\n",
       "    </tr>\n",
       "    <tr>\n",
       "      <th>...</th>\n",
       "      <td>...</td>\n",
       "      <td>...</td>\n",
       "      <td>...</td>\n",
       "      <td>...</td>\n",
       "      <td>...</td>\n",
       "      <td>...</td>\n",
       "      <td>...</td>\n",
       "      <td>...</td>\n",
       "      <td>...</td>\n",
       "      <td>...</td>\n",
       "      <td>...</td>\n",
       "      <td>...</td>\n",
       "      <td>...</td>\n",
       "      <td>...</td>\n",
       "      <td>...</td>\n",
       "      <td>...</td>\n",
       "      <td>...</td>\n",
       "      <td>...</td>\n",
       "      <td>...</td>\n",
       "      <td>...</td>\n",
       "      <td>...</td>\n",
       "    </tr>\n",
       "    <tr>\n",
       "      <th>2671</th>\n",
       "      <td>233</td>\n",
       "      <td>1394</td>\n",
       "      <td>320</td>\n",
       "      <td>222</td>\n",
       "      <td>1283</td>\n",
       "      <td>243</td>\n",
       "      <td>196</td>\n",
       "      <td>429</td>\n",
       "      <td>376</td>\n",
       "      <td>264</td>\n",
       "      <td>...</td>\n",
       "      <td>775</td>\n",
       "      <td>161</td>\n",
       "      <td>821</td>\n",
       "      <td>Male</td>\n",
       "      <td>Illinois</td>\n",
       "      <td>3</td>\n",
       "      <td>24</td>\n",
       "      <td>68</td>\n",
       "      <td>175</td>\n",
       "      <td>Right hand</td>\n",
       "    </tr>\n",
       "    <tr>\n",
       "      <th>1936</th>\n",
       "      <td>248</td>\n",
       "      <td>1554</td>\n",
       "      <td>362</td>\n",
       "      <td>231</td>\n",
       "      <td>1443</td>\n",
       "      <td>263</td>\n",
       "      <td>213</td>\n",
       "      <td>446</td>\n",
       "      <td>350</td>\n",
       "      <td>288</td>\n",
       "      <td>...</td>\n",
       "      <td>883</td>\n",
       "      <td>185</td>\n",
       "      <td>930</td>\n",
       "      <td>Male</td>\n",
       "      <td>Minnesota</td>\n",
       "      <td>1</td>\n",
       "      <td>40</td>\n",
       "      <td>75</td>\n",
       "      <td>198</td>\n",
       "      <td>Left hand</td>\n",
       "    </tr>\n",
       "    <tr>\n",
       "      <th>575</th>\n",
       "      <td>322</td>\n",
       "      <td>1526</td>\n",
       "      <td>351</td>\n",
       "      <td>238</td>\n",
       "      <td>1421</td>\n",
       "      <td>246</td>\n",
       "      <td>194</td>\n",
       "      <td>421</td>\n",
       "      <td>329</td>\n",
       "      <td>279</td>\n",
       "      <td>...</td>\n",
       "      <td>867</td>\n",
       "      <td>180</td>\n",
       "      <td>881</td>\n",
       "      <td>Male</td>\n",
       "      <td>California</td>\n",
       "      <td>1</td>\n",
       "      <td>40</td>\n",
       "      <td>73</td>\n",
       "      <td>196</td>\n",
       "      <td>Right hand</td>\n",
       "    </tr>\n",
       "    <tr>\n",
       "      <th>4435</th>\n",
       "      <td>220</td>\n",
       "      <td>1346</td>\n",
       "      <td>308</td>\n",
       "      <td>208</td>\n",
       "      <td>1253</td>\n",
       "      <td>242</td>\n",
       "      <td>188</td>\n",
       "      <td>384</td>\n",
       "      <td>270</td>\n",
       "      <td>251</td>\n",
       "      <td>...</td>\n",
       "      <td>613</td>\n",
       "      <td>152</td>\n",
       "      <td>790</td>\n",
       "      <td>Female</td>\n",
       "      <td>Hawaii</td>\n",
       "      <td>2</td>\n",
       "      <td>23</td>\n",
       "      <td>65</td>\n",
       "      <td>130</td>\n",
       "      <td>Right hand</td>\n",
       "    </tr>\n",
       "    <tr>\n",
       "      <th>2865</th>\n",
       "      <td>210</td>\n",
       "      <td>1497</td>\n",
       "      <td>343</td>\n",
       "      <td>208</td>\n",
       "      <td>1388</td>\n",
       "      <td>252</td>\n",
       "      <td>203</td>\n",
       "      <td>400</td>\n",
       "      <td>310</td>\n",
       "      <td>268</td>\n",
       "      <td>...</td>\n",
       "      <td>673</td>\n",
       "      <td>174</td>\n",
       "      <td>888</td>\n",
       "      <td>Male</td>\n",
       "      <td>New Mexico</td>\n",
       "      <td>1</td>\n",
       "      <td>21</td>\n",
       "      <td>73</td>\n",
       "      <td>150</td>\n",
       "      <td>Right hand</td>\n",
       "    </tr>\n",
       "  </tbody>\n",
       "</table>\n",
       "<p>4326 rows × 100 columns</p>\n",
       "</div>"
      ],
      "text/plain": [
       "      abdominalextensiondepthsitting  acromialheight  acromionradialelength  \\\n",
       "5503                             265            1310                    304   \n",
       "4911                             223            1398                    330   \n",
       "899                              233            1351                    317   \n",
       "4203                             203            1251                    278   \n",
       "3838                             222            1391                    318   \n",
       "...                              ...             ...                    ...   \n",
       "2671                             233            1394                    320   \n",
       "1936                             248            1554                    362   \n",
       "575                              322            1526                    351   \n",
       "4435                             220            1346                    308   \n",
       "2865                             210            1497                    343   \n",
       "\n",
       "      anklecircumference  axillaheight  balloffootcircumference  \\\n",
       "5503                 229          1210                      226   \n",
       "4911                 212          1307                      252   \n",
       "899                  206          1252                      233   \n",
       "4203                 220          1160                      228   \n",
       "3838                 228          1278                      233   \n",
       "...                  ...           ...                      ...   \n",
       "2671                 222          1283                      243   \n",
       "1936                 231          1443                      263   \n",
       "575                  238          1421                      246   \n",
       "4435                 208          1253                      242   \n",
       "2865                 208          1388                      252   \n",
       "\n",
       "      balloffootlength  biacromialbreadth  bicepscircumferenceflexed  \\\n",
       "5503               190                362                        329   \n",
       "4911               193                377                        305   \n",
       "899                184                394                        322   \n",
       "4203               175                355                        302   \n",
       "3838               201                402                        324   \n",
       "...                ...                ...                        ...   \n",
       "2671               196                429                        376   \n",
       "1936               213                446                        350   \n",
       "575                194                421                        329   \n",
       "4435               188                384                        270   \n",
       "2865               203                400                        310   \n",
       "\n",
       "      bicristalbreadth  ...  weightkg  wristcircumference  wristheight  \\\n",
       "5503               278  ...       762                 152          792   \n",
       "4911               260  ...       704                 155          833   \n",
       "899                263  ...       691                 165          797   \n",
       "4203               273  ...       701                 146          783   \n",
       "3838               261  ...       726                 163          819   \n",
       "...                ...  ...       ...                 ...          ...   \n",
       "2671               264  ...       775                 161          821   \n",
       "1936               288  ...       883                 185          930   \n",
       "575                279  ...       867                 180          881   \n",
       "4435               251  ...       613                 152          790   \n",
       "2865               268  ...       673                 174          888   \n",
       "\n",
       "      Gender  SubjectsBirthLocation  SubjectNumericRace  Age  Heightin  \\\n",
       "5503  Female               Illinois                   1   25        64   \n",
       "4911  Female               Barbados                   8   51        67   \n",
       "899     Male               Arkansas                   1   31        66   \n",
       "4203  Female                Ecuador                   3   39        62   \n",
       "3838    Male               Oklahoma                   1   20        68   \n",
       "...      ...                    ...                 ...  ...       ...   \n",
       "2671    Male               Illinois                   3   24        68   \n",
       "1936    Male              Minnesota                   1   40        75   \n",
       "575     Male             California                   1   40        73   \n",
       "4435  Female                 Hawaii                   2   23        65   \n",
       "2865    Male             New Mexico                   1   21        73   \n",
       "\n",
       "      Weightlbs  WritingPreference  \n",
       "5503        170          Left hand  \n",
       "4911        155         Right hand  \n",
       "899         154         Right hand  \n",
       "4203        148         Right hand  \n",
       "3838        160         Right hand  \n",
       "...         ...                ...  \n",
       "2671        175         Right hand  \n",
       "1936        198          Left hand  \n",
       "575         196         Right hand  \n",
       "4435        130         Right hand  \n",
       "2865        150         Right hand  \n",
       "\n",
       "[4326 rows x 100 columns]"
      ]
     },
     "execution_count": 59,
     "metadata": {},
     "output_type": "execute_result"
    }
   ],
   "source": [
    "X_train"
   ]
  },
  {
   "cell_type": "code",
   "execution_count": 60,
   "metadata": {},
   "outputs": [
    {
     "data": {
      "text/plain": [
       "5503    2\n",
       "4911    0\n",
       "899     2\n",
       "4203    1\n",
       "3838    2\n",
       "       ..\n",
       "2671    1\n",
       "1936    2\n",
       "575     2\n",
       "4435    0\n",
       "2865    2\n",
       "Name: DODRace, Length: 4326, dtype: int64"
      ]
     },
     "execution_count": 60,
     "metadata": {},
     "output_type": "execute_result"
    }
   ],
   "source": [
    "y_train_xgb"
   ]
  },
  {
   "cell_type": "code",
   "execution_count": 61,
   "metadata": {},
   "outputs": [
    {
     "name": "stdout",
     "output_type": "stream",
     "text": [
      "Test_Set\n",
      "[[313   3   9]\n",
      " [  5 155  10]\n",
      " [ 12  16 920]]\n",
      "              precision    recall  f1-score   support\n",
      "\n",
      "           0       0.95      0.96      0.96       325\n",
      "           1       0.89      0.91      0.90       170\n",
      "           2       0.98      0.97      0.98       948\n",
      "\n",
      "    accuracy                           0.96      1443\n",
      "   macro avg       0.94      0.95      0.94      1443\n",
      "weighted avg       0.96      0.96      0.96      1443\n",
      "\n",
      "----------------------------------------------------------------------------------------------------\n",
      "Train_Set\n",
      "[[ 973    0    0]\n",
      " [   0  509    0]\n",
      " [   0    0 2844]]\n",
      "              precision    recall  f1-score   support\n",
      "\n",
      "           0       1.00      1.00      1.00       973\n",
      "           1       1.00      1.00      1.00       509\n",
      "           2       1.00      1.00      1.00      2844\n",
      "\n",
      "    accuracy                           1.00      4326\n",
      "   macro avg       1.00      1.00      1.00      4326\n",
      "weighted avg       1.00      1.00      1.00      4326\n",
      "\n"
     ]
    }
   ],
   "source": [
    "eval_metric(pipe_model_xgb, X_train, y_train_xgb, X_test, y_test_xgb)"
   ]
  },
  {
   "cell_type": "code",
   "execution_count": 62,
   "metadata": {},
   "outputs": [
    {
     "data": {
      "text/plain": [
       "array([0.50703235, 1.48201439, 0.50703235, ..., 0.50703235, 1.48201439,\n",
       "       0.50703235])"
      ]
     },
     "execution_count": 62,
     "metadata": {},
     "output_type": "execute_result"
    }
   ],
   "source": [
    "from sklearn.utils import class_weight\n",
    "\n",
    "classes_weights = class_weight.compute_sample_weight(\n",
    "    class_weight=\"balanced\", y=y_train_xgb\n",
    ")\n",
    "classes_weights\n",
    "\n",
    "# XGboost algorithm has no class_weight hyperparameter for multiclass.\n",
    "# We can use the sample_weight hyperparameter within the fit function."
   ]
  },
  {
   "cell_type": "code",
   "execution_count": 63,
   "metadata": {},
   "outputs": [
    {
     "data": {
      "text/html": [
       "<div>\n",
       "<style scoped>\n",
       "    .dataframe tbody tr th:only-of-type {\n",
       "        vertical-align: middle;\n",
       "    }\n",
       "\n",
       "    .dataframe tbody tr th {\n",
       "        vertical-align: top;\n",
       "    }\n",
       "\n",
       "    .dataframe thead th {\n",
       "        text-align: right;\n",
       "    }\n",
       "</style>\n",
       "<table border=\"1\" class=\"dataframe\">\n",
       "  <thead>\n",
       "    <tr style=\"text-align: right;\">\n",
       "      <th></th>\n",
       "      <th>weights</th>\n",
       "      <th>label</th>\n",
       "    </tr>\n",
       "  </thead>\n",
       "  <tbody>\n",
       "    <tr>\n",
       "      <th>5503</th>\n",
       "      <td>0.507032</td>\n",
       "      <td>2</td>\n",
       "    </tr>\n",
       "    <tr>\n",
       "      <th>4911</th>\n",
       "      <td>1.482014</td>\n",
       "      <td>0</td>\n",
       "    </tr>\n",
       "    <tr>\n",
       "      <th>899</th>\n",
       "      <td>0.507032</td>\n",
       "      <td>2</td>\n",
       "    </tr>\n",
       "    <tr>\n",
       "      <th>4203</th>\n",
       "      <td>2.833006</td>\n",
       "      <td>1</td>\n",
       "    </tr>\n",
       "    <tr>\n",
       "      <th>3838</th>\n",
       "      <td>0.507032</td>\n",
       "      <td>2</td>\n",
       "    </tr>\n",
       "  </tbody>\n",
       "</table>\n",
       "</div>"
      ],
      "text/plain": [
       "       weights  label\n",
       "5503  0.507032      2\n",
       "4911  1.482014      0\n",
       "899   0.507032      2\n",
       "4203  2.833006      1\n",
       "3838  0.507032      2"
      ]
     },
     "execution_count": 63,
     "metadata": {},
     "output_type": "execute_result"
    }
   ],
   "source": [
    "my_dict = {\"weights\": classes_weights, \"label\": y_train_xgb}\n",
    "\n",
    "comp = pd.DataFrame(my_dict)\n",
    "\n",
    "comp.head()"
   ]
  },
  {
   "cell_type": "code",
   "execution_count": 64,
   "metadata": {},
   "outputs": [
    {
     "data": {
      "text/plain": [
       "Pipeline(steps=[('OrdinalEncoder',\n",
       "                 ColumnTransformer(remainder=MinMaxScaler(),\n",
       "                                   transformers=[('onehotencoder',\n",
       "                                                  OneHotEncoder(handle_unknown='ignore',\n",
       "                                                                sparse=False),\n",
       "                                                  Index(['Gender', 'SubjectsBirthLocation', 'WritingPreference'], dtype='object'))],\n",
       "                                   verbose_feature_names_out=False)),\n",
       "                ('XGB_model',\n",
       "                 XGBClassifier(base_score=0.5, booster='gbtree', callbacks=None,\n",
       "                               col...\n",
       "                               gamma=0, gpu_id=-1, grow_policy='depthwise',\n",
       "                               importance_type=None, interaction_constraints='',\n",
       "                               learning_rate=0.300000012, max_bin=256,\n",
       "                               max_cat_to_onehot=4, max_delta_step=0,\n",
       "                               max_depth=6, max_leaves=0, min_child_weight=1,\n",
       "                               missing=nan, monotone_constraints='()',\n",
       "                               n_estimators=100, n_jobs=0, num_parallel_tree=1,\n",
       "                               objective='multi:softprob', predictor='auto',\n",
       "                               random_state=101, reg_alpha=0, ...))])"
      ]
     },
     "execution_count": 64,
     "metadata": {},
     "output_type": "execute_result"
    }
   ],
   "source": [
    "pipe_model_xgb.fit(X_train, y_train_xgb, XGB_model__sample_weight=classes_weights)\n",
    "# weight parameter in XGBoost is per instance not per class. Therefore,\n",
    "# we need to assign the weight of each class to its instances,\n",
    "# which is the same thing."
   ]
  },
  {
   "cell_type": "code",
   "execution_count": 65,
   "metadata": {},
   "outputs": [
    {
     "name": "stdout",
     "output_type": "stream",
     "text": [
      "Test_Set\n",
      "[[315   4   6]\n",
      " [  5 160   5]\n",
      " [ 12  16 920]]\n",
      "              precision    recall  f1-score   support\n",
      "\n",
      "           0       0.95      0.97      0.96       325\n",
      "           1       0.89      0.94      0.91       170\n",
      "           2       0.99      0.97      0.98       948\n",
      "\n",
      "    accuracy                           0.97      1443\n",
      "   macro avg       0.94      0.96      0.95      1443\n",
      "weighted avg       0.97      0.97      0.97      1443\n",
      "\n",
      "----------------------------------------------------------------------------------------------------\n",
      "Train_Set\n",
      "[[ 973    0    0]\n",
      " [   0  509    0]\n",
      " [   0    0 2844]]\n",
      "              precision    recall  f1-score   support\n",
      "\n",
      "           0       1.00      1.00      1.00       973\n",
      "           1       1.00      1.00      1.00       509\n",
      "           2       1.00      1.00      1.00      2844\n",
      "\n",
      "    accuracy                           1.00      4326\n",
      "   macro avg       1.00      1.00      1.00      4326\n",
      "weighted avg       1.00      1.00      1.00      4326\n",
      "\n"
     ]
    }
   ],
   "source": [
    "eval_metric(pipe_model_xgb, X_train, y_train_xgb, X_test, y_test_xgb)"
   ]
  },
  {
   "cell_type": "code",
   "execution_count": 66,
   "metadata": {},
   "outputs": [],
   "source": [
    "scoring_xgb = {\n",
    "    \"precision_Hispanic\": make_scorer(precision_score, average=None, labels=[1]),\n",
    "    \"recall_Hispanic\": make_scorer(recall_score, average=None, labels=[1]),\n",
    "    \"f1_Hispanic\": make_scorer(f1_score, average=None, labels=[1]),\n",
    "}\n",
    "\n",
    "# Since xgb does not accept non-encoded targets, we arrange the scoring_xgb\n",
    "# according to the 1 numeric class corresponding to hispanics."
   ]
  },
  {
   "cell_type": "code",
   "execution_count": null,
   "metadata": {},
   "outputs": [],
   "source": [
    "operations_xgb = [\n",
    "    (\"OrdinalEncoder\", column_trans),\n",
    "    (\"XGB_model\", XGBClassifier(random_state=101)),\n",
    "]\n",
    "\n",
    "model = Pipeline(steps=operations_xgb)\n",
    "\n",
    "scores = cross_validate(\n",
    "    model,\n",
    "    X_train,\n",
    "    y_train_xgb,\n",
    "    scoring=scoring_xgb,\n",
    "    cv=5,\n",
    "    n_jobs=-1,\n",
    "    return_train_score=True,\n",
    "    fit_params={\"XGB_model__sample_weight\": classes_weights},\n",
    ")\n",
    "df_scores = pd.DataFrame(scores, index=range(1, 6))\n",
    "df_scores.mean()[2:]"
   ]
  },
  {
   "cell_type": "markdown",
   "metadata": {
    "heading_collapsed": true,
    "hidden": true,
    "id": "p3gH5QvE1b7I"
   },
   "source": [
    "### XGBoost Model GridsearchCV"
   ]
  },
  {
   "cell_type": "code",
   "execution_count": 68,
   "metadata": {
    "id": "72E3Cmnm2KOE"
   },
   "outputs": [],
   "source": [
    "param_grid = {\n",
    "    \"XGB_model__n_estimators\": [20, 40],\n",
    "    \"XGB_model__max_depth\": [1, 2],\n",
    "    \"XGB_model__learning_rate\": [0.03, 0.05],\n",
    "    \"XGB_model__subsample\": [0.8, 1],\n",
    "    \"XGB_model__colsample_bytree\": [0.8, 1],\n",
    "}"
   ]
  },
  {
   "cell_type": "code",
   "execution_count": 69,
   "metadata": {},
   "outputs": [],
   "source": [
    "operations_xgb = [\n",
    "    (\"OrdinalEncoder\", column_trans),\n",
    "    (\"XGB_model\", XGBClassifier(random_state=101)),\n",
    "]\n",
    "\n",
    "model = Pipeline(steps=operations_xgb)\n",
    "\n",
    "xgb_grid_model = GridSearchCV(\n",
    "    model,\n",
    "    param_grid,\n",
    "    scoring=make_scorer(recall_score, average=None, labels=[1]),\n",
    "    cv=5,\n",
    "    n_jobs=-1,\n",
    "    return_train_score=True,\n",
    ")"
   ]
  },
  {
   "cell_type": "code",
   "execution_count": null,
   "metadata": {},
   "outputs": [],
   "source": [
    "xgb_grid_model.fit(X_train, y_train_xgb, XGB_model__sample_weight=classes_weights)"
   ]
  },
  {
   "cell_type": "code",
   "execution_count": null,
   "metadata": {},
   "outputs": [],
   "source": [
    "xgb_grid_model.best_estimator_"
   ]
  },
  {
   "cell_type": "code",
   "execution_count": null,
   "metadata": {},
   "outputs": [],
   "source": [
    "eval_metric(xgb_grid_model, X_train, y_train_xgb, X_test, y_test_xgb)"
   ]
  },
  {
   "cell_type": "code",
   "execution_count": null,
   "metadata": {},
   "outputs": [],
   "source": [
    "from scikitplot.metrics import plot_roc, precision_recall_curve\n",
    "\n",
    "\n",
    "operations_xgb = [\n",
    "    (\"OrdinalEncoder\", column_trans),\n",
    "    (\n",
    "        \"XGB_model\",\n",
    "        XGBClassifier(\n",
    "            colsample_bytree=0.8,\n",
    "            learning_rate=0.05,\n",
    "            max_depth=2,\n",
    "            n_estimators=20,\n",
    "            subsample=0.8,\n",
    "            random_state=101,\n",
    "        ),\n",
    "    ),\n",
    "]\n",
    "\n",
    "model = Pipeline(steps=operations_xgb)\n",
    "\n",
    "model.fit(X_train, y_train_xgb, XGB_model__sample_weight=classes_weights)\n",
    "\n",
    "y_pred_proba = model.predict_proba(X_test)\n",
    "\n",
    "plot_precision_recall(y_test_xgb, y_pred_proba)\n",
    "plt.show()"
   ]
  },
  {
   "cell_type": "markdown",
   "metadata": {
    "hidden": true,
    "id": "DbXAmOPVDatl"
   },
   "source": [
    "---\n",
    "---"
   ]
  },
  {
   "cell_type": "markdown",
   "metadata": {
    "hidden": true,
    "id": "WvWpInu21b7L"
   },
   "source": [
    "---\n",
    "---"
   ]
  },
  {
   "cell_type": "markdown",
   "metadata": {
    "heading_collapsed": true,
    "id": "xg2k1ScZ1b7L"
   },
   "source": [
    "# SMOTE\n",
    "https://machinelearningmastery.com/smote-oversampling-for-imbalanced-classification/"
   ]
  },
  {
   "cell_type": "markdown",
   "metadata": {
    "hidden": true,
    "id": "9Rqk02x61b7L"
   },
   "source": [
    "##  Smote implement"
   ]
  },
  {
   "cell_type": "code",
   "execution_count": null,
   "metadata": {
    "hidden": true,
    "id": "XTN4iO7i1b7L"
   },
   "outputs": [],
   "source": [
    "#!pip install imblearn"
   ]
  },
  {
   "cell_type": "code",
   "execution_count": null,
   "metadata": {
    "hidden": true,
    "id": "Cv5155AN1b7L"
   },
   "outputs": [],
   "source": [
    "from imblearn.over_sampling import SMOTE\n",
    "from imblearn.under_sampling import RandomUnderSampler\n",
    "from imblearn.pipeline import Pipeline"
   ]
  },
  {
   "cell_type": "code",
   "execution_count": null,
   "metadata": {
    "id": "G1FSKgtbaylV"
   },
   "outputs": [],
   "source": [
    "column_trans = make_column_transformer(\n",
    "    (OneHotEncoder(handle_unknown=\"ignore\", sparse=False), cat),\n",
    "    remainder=MinMaxScaler(),\n",
    ")"
   ]
  },
  {
   "cell_type": "code",
   "execution_count": null,
   "metadata": {},
   "outputs": [],
   "source": [
    "X_train_ohe = column_trans.fit_transform(X_train)\n",
    "\n",
    "# First, we manually transform X_train and X_test' one hot encoder."
   ]
  },
  {
   "cell_type": "code",
   "execution_count": null,
   "metadata": {},
   "outputs": [],
   "source": [
    "over = SMOTE()\n",
    "X_train_over, y_train_over = over.fit_resample(X_train_ohe, y_train)\n",
    "\n",
    "# over_sampling(smote) and under_sampling (RandomUnderSampler) apply to X_train and y_train only.\n",
    "# If it is applied to all the data and then separated into data train and test set,\n",
    "# data_leakage will occur and your scores will overestimated.\n",
    "# The data should be split into train and test set first and then applied only to the train data."
   ]
  },
  {
   "cell_type": "code",
   "execution_count": null,
   "metadata": {},
   "outputs": [],
   "source": [
    "y_train_over.value_counts()\n",
    "\n",
    "# As you can see, all classes after smote are equal to the number of\n",
    "# observations of the majority class, white.\n",
    "\n",
    "# However, equating or approximating the minority class to the majority\n",
    "# class will result in overfitting of the model. Therefore, the number of observations\n",
    "# belonging to the minority class should be increased in a controlled manner\n",
    "# to avoid overfitting."
   ]
  },
  {
   "cell_type": "code",
   "execution_count": null,
   "metadata": {},
   "outputs": [],
   "source": [
    "under = RandomUnderSampler()\n",
    "X_train_under, y_train_under = under.fit_resample(X_train_ohe, y_train)"
   ]
  },
  {
   "cell_type": "code",
   "execution_count": null,
   "metadata": {},
   "outputs": [],
   "source": [
    "over = SMOTE(sampling_strategy={\"Hispanic\": 1000})\n",
    "under = RandomUnderSampler(sampling_strategy={\"White\": 2500})\n",
    "\n",
    "# With the sampling_strategy hyperparameter, we can increase or decrease\n",
    "# the classes however we want."
   ]
  },
  {
   "cell_type": "code",
   "execution_count": null,
   "metadata": {},
   "outputs": [],
   "source": [
    "X_resampled_over, y_resampled_over = over.fit_resample(X_train_ohe, y_train)"
   ]
  },
  {
   "cell_type": "code",
   "execution_count": null,
   "metadata": {},
   "outputs": [],
   "source": [
    "X_resampled_under, y_resampled_under = under.fit_resample(X_train_ohe, y_train)"
   ]
  },
  {
   "cell_type": "code",
   "execution_count": null,
   "metadata": {},
   "outputs": [],
   "source": [
    "# We automate our over_sampling and under_sampling processes.\n",
    "steps = [(\"o\", over), (\"u\", under)]\n",
    "from imblearn.pipeline import Pipeline as imbpipeline\n",
    "\n",
    "pipeline = imbpipeline(steps=steps)\n",
    "\n",
    "# First the number of hispanic cals will be increased to 1000 as per our instruction,\n",
    "# and then the white class will be reduced to 2500.\n",
    "X_resampled, y_resampled = pipeline.fit_resample(X_train_ohe, y_train)"
   ]
  },
  {
   "cell_type": "markdown",
   "metadata": {
    "hidden": true,
    "id": "1hBIqmFL1b7O"
   },
   "source": [
    "## Logistic Regression Over/ Under Sampling"
   ]
  },
  {
   "cell_type": "code",
   "execution_count": null,
   "metadata": {
    "id": "12AItu1M2ds0"
   },
   "outputs": [],
   "source": [
    "column_trans = make_column_transformer(\n",
    "    (OneHotEncoder(handle_unknown=\"ignore\", sparse=False), cat),\n",
    "    remainder=MinMaxScaler(),\n",
    ")"
   ]
  },
  {
   "cell_type": "code",
   "execution_count": null,
   "metadata": {
    "id": "JLsqCpGn7jNM"
   },
   "outputs": [],
   "source": [
    "operations = [\n",
    "    (\"OneHotEncoder\", column_trans),\n",
    "    (\"o\", over),\n",
    "    (\"u\", under),\n",
    "    (\"log\", LogisticRegression(max_iter=10000, random_state=101)),\n",
    "]  # (\"scaler\", MinMaxScaler())\n",
    "\n",
    "# When over or under sampling is applied to data, class_weight=\"balanced\" is never used."
   ]
  },
  {
   "cell_type": "code",
   "execution_count": null,
   "metadata": {},
   "outputs": [],
   "source": [
    "smote_pipeline = imbpipeline(steps=operations)"
   ]
  },
  {
   "cell_type": "code",
   "execution_count": null,
   "metadata": {},
   "outputs": [],
   "source": [
    "smote_pipeline.fit(X_train, y_train)"
   ]
  },
  {
   "cell_type": "code",
   "execution_count": null,
   "metadata": {},
   "outputs": [],
   "source": [
    "eval_metric(smote_pipeline, X_train, y_train, X_test, y_test)"
   ]
  },
  {
   "cell_type": "code",
   "execution_count": null,
   "metadata": {},
   "outputs": [],
   "source": [
    "scoring = {\n",
    "    \"precision_Hispanic\": make_scorer(\n",
    "        precision_score, average=None, labels=[\"Hispanic\"]\n",
    "    ),\n",
    "    \"recall_Hispanic\": make_scorer(recall_score, average=None, labels=[\"Hispanic\"]),\n",
    "    \"f1_Hispanic\": make_scorer(f1_score, average=None, labels=[\"Hispanic\"]),\n",
    "}"
   ]
  },
  {
   "cell_type": "code",
   "execution_count": null,
   "metadata": {},
   "outputs": [],
   "source": [
    "model = imbpipeline(steps=operations)\n",
    "\n",
    "scores = cross_validate(\n",
    "    model, X_train, y_train, scoring=scoring, cv=10, n_jobs=-1, return_train_score=True\n",
    ")\n",
    "df_scores = pd.DataFrame(scores, index=range(1, 11))\n",
    "df_scores.mean()[2:]"
   ]
  },
  {
   "cell_type": "code",
   "execution_count": null,
   "metadata": {},
   "outputs": [],
   "source": []
  },
  {
   "cell_type": "markdown",
   "metadata": {
    "id": "j9A1B65L7jwp"
   },
   "source": [
    "## Other Evaluation Metrics for Multiclass Classification"
   ]
  },
  {
   "cell_type": "markdown",
   "metadata": {
    "hidden": true,
    "id": "T1pPLjpA1b7P"
   },
   "source": [
    "- Evaluation metrics \n",
    "https://towardsdatascience.com/comprehensive-guide-on-multiclass-classification-metrics-af94cfb83fbd"
   ]
  },
  {
   "cell_type": "code",
   "execution_count": null,
   "metadata": {
    "hidden": true,
    "id": "Me3OZtQF1b7P",
    "outputId": "6280fddb-b392-40c1-87d3-57d242ce2528"
   },
   "outputs": [],
   "source": [
    "from sklearn.metrics import matthews_corrcoef\n",
    "matthews_corrcoef(y_test, y_pred)"
   ]
  },
  {
   "cell_type": "code",
   "execution_count": null,
   "metadata": {
    "hidden": true,
    "id": "P74oLhzK1b7P",
    "outputId": "350b8e9d-dd72-4566-8b11-10526699cd94"
   },
   "outputs": [],
   "source": [
    "from sklearn.metrics import cohen_kappa_score\n",
    "cohen_kappa_score?\n",
    "cohen_kappa_score(y_test, y_pred)"
   ]
  },
  {
   "cell_type": "markdown",
   "metadata": {
    "heading_collapsed": true,
    "id": "9hxUcvZG1b7J"
   },
   "source": [
    "# Before the Deployment \n",
    "- Choose the model that works best based on your chosen metric\n",
    "- For final step, fit the best model with whole dataset to get better performance.\n",
    "- And your model ready to deploy, dump your model and scaler."
   ]
  },
  {
   "cell_type": "code",
   "execution_count": null,
   "metadata": {
    "id": "4UOn_G0n2N2Z"
   },
   "outputs": [],
   "source": [
    "column_trans_final = make_column_transformer(\n",
    "    (OneHotEncoder(handle_unknown=\"ignore\", sparse_output=False), cat),\n",
    "    remainder=MinMaxScaler(),\n",
    ")\n",
    "\n",
    "operations_final = [\n",
    "    (\"OneHotEncoder\", column_trans_final),\n",
    "    (\n",
    "        \"log\",\n",
    "        LogisticRegression(class_weight=\"balanced\", max_iter=10000, random_state=101),\n",
    "    ),\n",
    "]\n",
    "\n",
    "final_model = Pipeline(steps=operations_final)"
   ]
  },
  {
   "cell_type": "code",
   "execution_count": null,
   "metadata": {},
   "outputs": [],
   "source": [
    "final_model.fit(X, y)"
   ]
  },
  {
   "cell_type": "code",
   "execution_count": null,
   "metadata": {},
   "outputs": [],
   "source": [
    "X[X.Gender == \"Male\"].describe()\n",
    "\n",
    "# We will make predictions on the model based on the average\n",
    "# values of all male soldiers in our data."
   ]
  },
  {
   "cell_type": "code",
   "execution_count": null,
   "metadata": {},
   "outputs": [],
   "source": [
    "male_mean_human = X[X.Gender == \"Male\"].describe(include=\"all\").loc[\"mean\"]\n",
    "male_mean_human"
   ]
  },
  {
   "cell_type": "code",
   "execution_count": null,
   "metadata": {},
   "outputs": [],
   "source": [
    "final_model.predict(pd.DataFrame(male_mean_human).T)\n",
    "\n",
    "# we can say that the average values of male soldiers are very\n",
    "# close to Hispanic soldiers."
   ]
  },
  {
   "cell_type": "code",
   "execution_count": null,
   "metadata": {},
   "outputs": [],
   "source": [
    "from sklearn.metrics import matthews_corrcoef\n",
    "\n",
    "y_pred = final_model.predict(X_test)\n",
    "\n",
    "matthews_corrcoef(y_test, y_pred)\n",
    "\n",
    "# Accuracy is an unreliable metric for unstable datasets. For this reason,\n",
    "# matthews_corrcoef and cohen_kappa_score can be used for accuracy of\n",
    "# imbalanced datasets."
   ]
  },
  {
   "cell_type": "code",
   "execution_count": null,
   "metadata": {},
   "outputs": [],
   "source": [
    "from sklearn.metrics import cohen_kappa_score\n",
    "\n",
    "cohen_kappa_score(y_test, y_pred)"
   ]
  },
  {
   "cell_type": "markdown",
   "metadata": {
    "hidden": true,
    "id": "g8_x-BiN1b7Q"
   },
   "source": [
    "___\n",
    "\n",
    "<p style=\"text-align: center;\"><img src=\"https://docs.google.com/uc?id=1lY0Uj5R04yMY3-ZppPWxqCr5pvBLYPnV\" class=\"img-fluid\" alt=\"CLRSWY\"></p>\n",
    "\n",
    "___"
   ]
  },
  {
   "cell_type": "code",
   "execution_count": null,
   "metadata": {},
   "outputs": [],
   "source": []
  }
 ],
 "metadata": {
  "colab": {
   "collapsed_sections": [
    "K7UZHtvu1b62",
    "C5lJeTBu1b65",
    "TMjCTEG51b67",
    "CS5-GZy0sl4s",
    "zfi_NOw0s2fM",
    "p3gH5QvE1b7I",
    "xg2k1ScZ1b7L",
    "1hBIqmFL1b7O",
    "j9A1B65L7jwp",
    "9hxUcvZG1b7J"
   ],
   "provenance": []
  },
  "hide_input": false,
  "interpreter": {
   "hash": "e4e90950cb561445fc7289d5187c528b28750a487d008a70b474c773afaf79b7"
  },
  "kernelspec": {
   "display_name": "Python 3",
   "language": "python",
   "name": "python3"
  },
  "language_info": {
   "codemirror_mode": {
    "name": "ipython",
    "version": 3
   },
   "file_extension": ".py",
   "mimetype": "text/x-python",
   "name": "python",
   "nbconvert_exporter": "python",
   "pygments_lexer": "ipython3",
   "version": "3.7.9"
  },
  "toc": {
   "base_numbering": 1,
   "nav_menu": {},
   "number_sections": true,
   "sideBar": true,
   "skip_h1_title": false,
   "title_cell": "Table of Contents",
   "title_sidebar": "Contents",
   "toc_cell": false,
   "toc_position": {
    "height": "calc(100% - 180px)",
    "left": "10px",
    "top": "150px",
    "width": "338.797px"
   },
   "toc_section_display": true,
   "toc_window_display": false
  },
  "varInspector": {
   "cols": {
    "lenName": 16,
    "lenType": 16,
    "lenVar": 40
   },
   "kernels_config": {
    "python": {
     "delete_cmd_postfix": "",
     "delete_cmd_prefix": "del ",
     "library": "var_list.py",
     "varRefreshCmd": "print(var_dic_list())"
    },
    "r": {
     "delete_cmd_postfix": ") ",
     "delete_cmd_prefix": "rm(",
     "library": "var_list.r",
     "varRefreshCmd": "cat(var_dic_list()) "
    }
   },
   "oldHeight": 527,
   "position": {
    "height": "40px",
    "left": "1034px",
    "right": "20px",
    "top": "185px",
    "width": "661px"
   },
   "types_to_exclude": [
    "module",
    "function",
    "builtin_function_or_method",
    "instance",
    "_Feature"
   ],
   "varInspector_section_display": "none",
   "window_display": false
  }
 },
 "nbformat": 4,
 "nbformat_minor": 1
}
